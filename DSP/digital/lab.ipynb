{
 "cells": [
  {
   "cell_type": "code",
   "execution_count": 24,
   "id": "f4c01097-526d-46bc-96a5-44377e43dcb2",
   "metadata": {},
   "outputs": [],
   "source": [
    "import soundfile as sf\n",
    "import matplotlib.pyplot as plt\n",
    "import numpy as np\n",
    "import scipy.signal as sg\n",
    "import sounddevice as sd\n",
    "import wavio\n",
    "import scipy.signal as sig\n",
    "import time, math, sys\n",
    "import scipy.fftpack as fft\n",
    "import pyaudio\n",
    "import wave\n",
    "import commpy as cp\n",
    "import io\n",
    "import wave\n",
    "\n",
    "# import numpy as np\n",
    "# import scipy.io.wavfile\n",
    "# import soundfile as sf\n",
    "from scipy.io.wavfile import write"
   ]
  },
  {
   "cell_type": "code",
   "execution_count": 8,
   "id": "7e36dbc4-88a0-4d78-917f-30d0451dc0c0",
   "metadata": {},
   "outputs": [],
   "source": [
    "class Filter(object):\n",
    "    def __init__(self, b, a = [1], init=[]):\n",
    "        self.b = b\n",
    "        self.a = a\n",
    "        self.clear(init)\n",
    "    def __call__(self, x):\n",
    "        y, self.state = sig.lfilter(self.b, self.a, x, zi=self.state)\n",
    "        return y\n",
    "    def clear(self, init=[]):\n",
    "        self.state = sig.lfiltic(self.b, self.a, [], init)"
   ]
  },
  {
   "cell_type": "code",
   "execution_count": 3,
   "id": "86c26596-4db7-467e-904e-d99eae4a10e2",
   "metadata": {},
   "outputs": [],
   "source": [
    "def access_bit(data, num):\n",
    "    base = int(num // 8)\n",
    "    shift = int(num % 8)\n",
    "    return (data[base] >> shift) & 0x1"
   ]
  },
  {
   "cell_type": "code",
   "execution_count": null,
   "id": "8503c396-11d6-4bd6-9547-099de872accf",
   "metadata": {},
   "outputs": [],
   "source": []
  },
  {
   "cell_type": "code",
   "execution_count": 25,
   "id": "4e738d89-f678-4044-982e-44b26eec3ddd",
   "metadata": {},
   "outputs": [],
   "source": [
    "def convert_bytearray_to_wav_ndarray(input_bytearray: bytes, sampling_rate=44100):\n",
    "    bytes_wav = bytes()\n",
    "    byte_io = io.BytesIO(bytes_wav)\n",
    "    write(byte_io, sampling_rate, np.frombuffer(input_bytearray, dtype=np.int16))\n",
    "    output_wav = byte_io.read()\n",
    "    output, samplerate = sf.read(io.BytesIO(output_wav))\n",
    "    return output"
   ]
  },
  {
   "cell_type": "code",
   "execution_count": 19,
   "id": "c83cc1af-6197-4a11-9b6d-e778e48a8743",
   "metadata": {},
   "outputs": [],
   "source": [
    "def gen_ldpc_H(n=320, m=160):\n",
    "    cmax = 10\n",
    "    rmax = 20\n",
    "    rng = np.random.default_rng()\n",
    "    H = np.zeros((m, n))\n",
    "    top_layer = np.zeros((int(m/cmax), n))\n",
    "    for i in range(top_layer.shape[0]):\n",
    "        for j in range(rmax):\n",
    "            top_layer[i][i*rmax + j] = 1\n",
    "    H[:top_layer.shape[0]] = top_layer\n",
    "    \n",
    "    for i in range(1,cmax):\n",
    "        rand_layer = rng.permutation(top_layer, axis=1)\n",
    "        H[i*top_layer.shape[0]:(i+1)*top_layer.shape[0]] = rand_layer\n",
    "    return H"
   ]
  },
  {
   "cell_type": "code",
   "execution_count": 20,
   "id": "813e2651-7848-4f68-8839-6b83039db16b",
   "metadata": {},
   "outputs": [],
   "source": [
    "def encode(G, x):\n",
    "    return x @ G %2"
   ]
  },
  {
   "cell_type": "code",
   "execution_count": 21,
   "id": "7bac8ece-ded9-4190-85c0-bc7bbda10c2e",
   "metadata": {},
   "outputs": [],
   "source": [
    "def decode(H, u, niter):\n",
    "    K = H.shape[1]-H.shape[0]\n",
    "    for i in range(niter):\n",
    "        s = (H * u) % 2\n",
    "        if np.sum(s) == 0:\n",
    "            return u[:K]\n",
    "        error = np.zeros(u.shape)\n",
    "        error[np.argmax(s.T * H)] = 1\n",
    "        u = u - error\n",
    "    return u[:K]"
   ]
  },
  {
   "cell_type": "code",
   "execution_count": 30,
   "id": "e19210ae-b3d2-4119-986e-5d14063c480a",
   "metadata": {},
   "outputs": [],
   "source": [
    "def get_G_from_H(H):\n",
    "    m,n = H.shape\n",
    "    i=0\n",
    "    j=0\n",
    "\n",
    "    while i < m and j < n:\n",
    "        k = np.argmax(H[i:, j]) +i\n",
    "        temp = np.copy(H[k])\n",
    "        H[k] = H[i]\n",
    "        H[i] = temp\n",
    "        aijn = H[i, j:]\n",
    "        col = np.copy(H[:, j]) \n",
    "        col[i] = 0 \n",
    "        flip = np.outer(col, aijn)\n",
    "        H[:, j:] = H[:, j:] ^ flip\n",
    "        i += 1\n",
    "        j +=1\n",
    "\n",
    "    perm = np.arange(n)\n",
    "    return np.hstack([H[:,m:], H[:,:m]]), np.hstack([perm[m:], perm[:m]])"
   ]
  },
  {
   "cell_type": "code",
   "execution_count": 29,
   "id": "67c1f6f5-addd-47bb-a0d4-e4bdb01749f6",
   "metadata": {},
   "outputs": [],
   "source": [
    "def shaffle_H_like_G(perm, H):\n",
    "    idx = np.empty_like(perm)\n",
    "    idx[perm] = np.arange(len(perm))\n",
    "    H[:] = H[:, idx] \n",
    "    return H"
   ]
  },
  {
   "cell_type": "code",
   "execution_count": 10,
   "id": "cb63cea9-4b5b-4c86-a0ef-a5a6ffc8119b",
   "metadata": {},
   "outputs": [
    {
     "name": "stdout",
     "output_type": "stream",
     "text": [
      "104\n"
     ]
    }
   ],
   "source": [
    "Barker11 = [+1, +1, +1, -1, -1, -1, +1, -1, -1, +1, -1]\n",
    "BarkerFilter = Filter(Barker11[::-1])\n",
    "DelayFilter  = Filter([0,0,0,1])\n",
    "\n",
    "data = b'asnfajksdfnal'\n",
    "bits = [access_bit(data,i) for i in range(len(data)*8)]\n",
    "bits = np.array(bits, dtype=float)\n",
    "# print(bits)\n",
    "#bits = np.array([1,0,1,1,1,0])\n",
    "signal = 1 - 2*bits\n",
    "print(len(signal))\n",
    "# data = np.concatenate((Barker11, (1 - 2 * np.random.randint(2, size=256))/ np.sqrt(2)))\n",
    "data = np.concatenate((Barker11, signal))\n",
    "\n",
    "corr = BarkerFilter(data)\n",
    "# corr\n",
    "# в качестве трешхолда брать среднее от энергии (т.е. от квадрата data)"
   ]
  },
  {
   "cell_type": "code",
   "execution_count": 12,
   "id": "e3d1df3b-c958-45b2-9291-b52ed4a5a86b",
   "metadata": {},
   "outputs": [],
   "source": [
    "UP = 48\n",
    "N = 4801\n",
    "t, rrc = cp.filters.rrcosfilter(N, 0.25, 1e-3, 48e3)\n",
    "tx = np.zeros(len(data)*UP + len(rrc)*2)\n",
    "tx[:len(data)*UP:UP] = data\n",
    "# tx = np.zeros(len(data)*UP)\n",
    "# tx[::UP] = data\n",
    "tx = tx \n",
    "\n",
    "UpFilter1 = Filter(rrc)\n",
    "UpFilter2 = Filter(rrc/48)\n",
    "# tx = DelayFilter(UpFilter1(tx) * np.exp(2j*np.pi*7e3/48e3) это отправляем на передатчик (soundfile или pyAudio)\n",
    "# читаю сколько хочу, передаю в x = UpFilter2(), BarklerFilter(x) \n",
    "rx = UpFilter2(DelayFilter(UpFilter1(tx) + np.random.normal(scale=4, size=tx.shape)))\n",
    "# plt.plot(20*np.log10(np.abs(np.fft.fft(rx))))\n",
    "# plt.plot(np.arange(len(rx)), rx)"
   ]
  },
  {
   "cell_type": "code",
   "execution_count": 28,
   "id": "05bd7a59-bf26-4e1f-8029-97131fbc8a0c",
   "metadata": {},
   "outputs": [],
   "source": [
    "def get_sound(fileout):\n",
    "    UP = 48\n",
    "    BarkerInt = np.zeros(len(Barker11)*UP)\n",
    "    BarkerInt[::UP] = Barker11[::-1]\n",
    "    BarkerFilter = Filter(np.convolve(np.convolve(BarkerInt, rrc/48), rrc))\n",
    "    barrier = 1 # нужно экспериментально как-то подобрать это значение видимо\n",
    "    encoded_data = np.array([])\n",
    "    while True:\n",
    "        # читаем кусок данных\n",
    "        data = read_data()\n",
    "        rx = UpFilter2(data)\n",
    "        corr = BarkerFilter(rx)\n",
    "\n",
    "        if np.max(np.abs(corr)) < barrier:\n",
    "            continue\n",
    "\n",
    "        threshold = np.mean(rx**2)\n",
    "        offset = np.argwhere(corr > threshold)[0][0]\n",
    "        p = np.sign(rx[offset::UP]) # тут надо убирать барклера?\n",
    "        encoded_data = np.concatenate([encoded_data, (1-p)/2]) # -1 -> 1; 1 -> 0\n",
    "        if len(encoded_data) > CHUNK:\n",
    "            samples = decode(encoded_data[:CHUNK])\n",
    "            encoded_data = encoded_data[CHUNK:]\n",
    "            # write samples to file"
   ]
  },
  {
   "cell_type": "code",
   "execution_count": null,
   "id": "f299ed1e-720c-4870-9975-4c4009784c5b",
   "metadata": {},
   "outputs": [],
   "source": []
  },
  {
   "cell_type": "code",
   "execution_count": null,
   "id": "f6bef4fa-249a-48de-a49e-a9934e29b7ff",
   "metadata": {},
   "outputs": [],
   "source": []
  },
  {
   "cell_type": "code",
   "execution_count": null,
   "id": "a657a949-5297-423a-afe3-864358b36b3d",
   "metadata": {},
   "outputs": [],
   "source": []
  },
  {
   "cell_type": "code",
   "execution_count": null,
   "id": "9453da33-82ad-4d5f-8e3f-4202689f1758",
   "metadata": {},
   "outputs": [],
   "source": []
  },
  {
   "cell_type": "code",
   "execution_count": null,
   "id": "ca08addc-46aa-488e-a008-223511b10310",
   "metadata": {},
   "outputs": [],
   "source": []
  },
  {
   "cell_type": "code",
   "execution_count": null,
   "id": "038abd6e-2583-466e-8ef0-25ebb5290ae7",
   "metadata": {},
   "outputs": [],
   "source": []
  }
 ],
 "metadata": {
  "kernelspec": {
   "display_name": "Python 3 (ipykernel)",
   "language": "python",
   "name": "python3"
  },
  "language_info": {
   "codemirror_mode": {
    "name": "ipython",
    "version": 3
   },
   "file_extension": ".py",
   "mimetype": "text/x-python",
   "name": "python",
   "nbconvert_exporter": "python",
   "pygments_lexer": "ipython3",
   "version": "3.8.10"
  }
 },
 "nbformat": 4,
 "nbformat_minor": 5
}
