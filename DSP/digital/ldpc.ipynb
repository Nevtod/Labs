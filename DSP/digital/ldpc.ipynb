{
 "cells": [
  {
   "cell_type": "code",
   "execution_count": 2,
   "id": "5ab77cbc-e4e7-4e0e-8661-56b7c0dd6867",
   "metadata": {},
   "outputs": [],
   "source": [
    "import numpy as np\n",
    "\n",
    "H = np.matrix([[1, 1, 0, 1, 1, 0, 0, 1, 0, 0],\\\n",
    "              [0, 1, 1, 0, 1, 1, 1, 0 ,0 ,0],\\\n",
    "              [0, 0, 0, 1, 0, 0, 0, 1, 1, 1],\\\n",
    "              [1, 1, 0, 0, 0, 1, 1, 0, 1, 0],\\\n",
    "              [0, 0, 1, 0, 0, 1, 0, 1, 0, 1]])"
   ]
  },
  {
   "cell_type": "code",
   "execution_count": 6,
   "id": "7b0a6897-f373-40cc-85e3-1cde010e04c2",
   "metadata": {},
   "outputs": [
    {
     "data": {
      "text/plain": [
       "array([[0],\n",
       "       [0],\n",
       "       [1],\n",
       "       [0],\n",
       "       [0],\n",
       "       [0],\n",
       "       [1],\n",
       "       [0],\n",
       "       [1],\n",
       "       [0]])"
      ]
     },
     "execution_count": 6,
     "metadata": {},
     "output_type": "execute_result"
    }
   ],
   "source": [
    "u = np.random.randint(0, 2, (10,1))\n",
    "u"
   ]
  },
  {
   "cell_type": "code",
   "execution_count": 7,
   "id": "c33e807b-acf7-452d-bdb1-2902e40a5c36",
   "metadata": {},
   "outputs": [
    {
     "data": {
      "text/plain": [
       "matrix([[0],\n",
       "        [0],\n",
       "        [1],\n",
       "        [0],\n",
       "        [1]])"
      ]
     },
     "execution_count": 7,
     "metadata": {},
     "output_type": "execute_result"
    }
   ],
   "source": [
    "s = (H * u) % 2\n",
    "s"
   ]
  },
  {
   "cell_type": "code",
   "execution_count": 9,
   "id": "0d799af3-83d4-410f-832f-c0e58114677a",
   "metadata": {},
   "outputs": [
    {
     "data": {
      "text/plain": [
       "matrix([[0, 0, 1, 1, 0, 1, 0, 2, 1, 2]])"
      ]
     },
     "execution_count": 9,
     "metadata": {},
     "output_type": "execute_result"
    }
   ],
   "source": [
    "s.T * H"
   ]
  },
  {
   "cell_type": "code",
   "execution_count": 10,
   "id": "e5dfd4da-cff9-40bf-931a-40a404f24ba1",
   "metadata": {},
   "outputs": [
    {
     "data": {
      "text/plain": [
       "matrix([[1, 1, 0, 1, 1, 0, 0, 1, 0, 0, 0],\n",
       "        [0, 1, 1, 0, 1, 1, 1, 0, 0, 0, 0],\n",
       "        [0, 0, 0, 1, 0, 0, 0, 1, 1, 1, 1],\n",
       "        [1, 1, 0, 0, 0, 1, 1, 0, 1, 0, 0],\n",
       "        [0, 0, 1, 0, 0, 1, 0, 1, 0, 1, 1]])"
      ]
     },
     "execution_count": 10,
     "metadata": {},
     "output_type": "execute_result"
    }
   ],
   "source": [
    "np.concatenate((H, s), 1)"
   ]
  },
  {
   "cell_type": "code",
   "execution_count": 11,
   "id": "b7231197-f5c6-49d7-8de7-9cc8b35a92a8",
   "metadata": {},
   "outputs": [
    {
     "data": {
      "text/plain": [
       "matrix([[2, 3, 2, 2, 2, 3, 2, 3, 2, 2]])"
      ]
     },
     "execution_count": 11,
     "metadata": {},
     "output_type": "execute_result"
    }
   ],
   "source": [
    "np.sum(H, 0)"
   ]
  },
  {
   "cell_type": "code",
   "execution_count": 30,
   "id": "20c43870-f298-4efb-ba3b-cbcb2dd32551",
   "metadata": {},
   "outputs": [
    {
     "data": {
      "text/plain": [
       "matrix([[0.5       , 0.33333333, 0.5       , 1.        , 0.5       ,\n",
       "         0.33333333, 0.        , 1.        , 0.5       , 1.        ]])"
      ]
     },
     "execution_count": 30,
     "metadata": {},
     "output_type": "execute_result"
    }
   ],
   "source": [
    "s.T * H / np.sum(H, 0)"
   ]
  },
  {
   "cell_type": "code",
   "execution_count": 31,
   "id": "fd5a6248-ee6c-469a-8faa-b2a04b8616e4",
   "metadata": {},
   "outputs": [],
   "source": [
    "error = np.zeros(u.shape)\n",
    "error[np.argmax(s.T * H)] = 1"
   ]
  },
  {
   "cell_type": "code",
   "execution_count": 37,
   "id": "45594cf8-bcdc-4eaf-964a-502ab785fc1b",
   "metadata": {},
   "outputs": [
    {
     "data": {
      "text/plain": [
       "matrix([[0.],\n",
       "        [0.],\n",
       "        [0.],\n",
       "        [0.],\n",
       "        [0.]])"
      ]
     },
     "execution_count": 37,
     "metadata": {},
     "output_type": "execute_result"
    }
   ],
   "source": [
    "H * (u - error) % 2"
   ]
  }
 ],
 "metadata": {
  "kernelspec": {
   "display_name": "Python 3",
   "language": "python",
   "name": "python3"
  },
  "language_info": {
   "codemirror_mode": {
    "name": "ipython",
    "version": 3
   },
   "file_extension": ".py",
   "mimetype": "text/x-python",
   "name": "python",
   "nbconvert_exporter": "python",
   "pygments_lexer": "ipython3",
   "version": "3.8.10"
  }
 },
 "nbformat": 4,
 "nbformat_minor": 5
}
