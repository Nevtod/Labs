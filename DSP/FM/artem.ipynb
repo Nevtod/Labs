{
 "cells": [
  {
   "cell_type": "code",
   "execution_count": 16,
   "metadata": {},
   "outputs": [],
   "source": [
    "import soundfile as sf\n",
    "import matplotlib.pyplot as plt\n",
    "import numpy as np\n",
    "import math\n",
    "import scipy.signal as sg\n",
    "import sounddevice as sd\n",
    "import wavio"
   ]
  },
  {
   "cell_type": "code",
   "execution_count": 17,
   "metadata": {},
   "outputs": [],
   "source": [
    "import soundfile as sf\n",
    "import matplotlib.pyplot as plt\n",
    "import numpy as np\n",
    "import scipy.signal as sg\n"
   ]
  },
  {
   "cell_type": "code",
   "execution_count": 18,
   "metadata": {},
   "outputs": [],
   "source": [
    "def mult_by_exp(samples, Fc, Fs):\n",
    "    return samples*np.exp(-1j * (np.arange(0, len(samples)) * 2 * np.pi * Fc / Fs))"
   ]
  },
  {
   "cell_type": "code",
   "execution_count": 19,
   "metadata": {},
   "outputs": [],
   "source": [
    "def fix_diff(sample):\n",
    "    res = np.zeros(len(sample))\n",
    "    for i in range(len(sample)):\n",
    "        if sample[i] > np.pi:\n",
    "            res[i] = sample[i] - 2 * np.pi\n",
    "        elif sample[i] < -np.pi:\n",
    "            res[i] = sample[i] + 2 * np.pi\n",
    "        else:\n",
    "            res[i] = sample[i]\n",
    "    return res"
   ]
  },
  {
   "cell_type": "code",
   "execution_count": 20,
   "metadata": {},
   "outputs": [],
   "source": [
    "def amplify(sample, div, Fs):\n",
    "    return sample * Fs/div"
   ]
  },
  {
   "cell_type": "code",
   "execution_count": 21,
   "metadata": {},
   "outputs": [],
   "source": [
    "def receiver(samples, div, Fs, Fc):\n",
    "    s1 = mult_by_exp(samples, Fc, Fs)\n",
    "    b,a = sg.iirdesign(4000, min(2*Fc, Fs-2*Fc)-4000, 1, 100, fs=Fs)\n",
    "    s2 = sg.lfilter(b, a, s1)\n",
    "    s3 = np.angle(s2)\n",
    "    s4 = np.diff(s3)\n",
    "    s5 = fix_diff(s4.copy())\n",
    "    s6 = amplify(s5, div, Fs)/2/np.pi\n",
    "    return s6"
   ]
  },
  {
   "cell_type": "code",
   "execution_count": 22,
   "metadata": {},
   "outputs": [],
   "source": [
    "def transmitter(sample, div, Fs, Fc):\n",
    "    s = np.zeros(len(sample))\n",
    "    time = np.arange(0, len(sample))\n",
    "    integral = 0\n",
    "    A0 = 1\n",
    "    for t in time:\n",
    "        s[t] = A0 * np.real(np.exp(1j * (2 * np.pi * t * Fc / Fs + div * integral)))\n",
    "        integral += sample[t] / Fs\n",
    "    return s"
   ]
  },
  {
   "cell_type": "code",
   "execution_count": 23,
   "metadata": {},
   "outputs": [],
   "source": [
    "# samples, Fs = sf.read('123.ogg')\n",
    "# Fc = 7000\n",
    "# div = 1e3\n",
    "# s = transmitter(samples, div, Fs, Fc)\n",
    "# out = receiver(s, div, Fs, Fc)\n",
    "# wavio.write(\"sig3.mp3\", out, Fs, sampwidth=2)"
   ]
  },
  {
   "cell_type": "code",
   "execution_count": 24,
   "metadata": {},
   "outputs": [],
   "source": [
    "import time, math, sys\n",
    "import scipy.signal as sig\n",
    "import scipy.fftpack as fft\n",
    "import numpy as np\n",
    "import soundfile as sf\n",
    "import matplotlib.pyplot as plt\n",
    "import sounddevice as sd"
   ]
  },
  {
   "cell_type": "code",
   "execution_count": 25,
   "metadata": {},
   "outputs": [],
   "source": [
    "class Filter(object):\n",
    "    def __init__(self, b, a = [1], init=[]):\n",
    "        self.b = b\n",
    "        self.a = a\n",
    "        self.clear(init)\n",
    "        \n",
    "    def __call__(self, x):\n",
    "        y, self.state = sig.lfilter(self.b, self.a, x, zi=self.state)\n",
    "        return y\n",
    "    \n",
    "    def clear(self, init=[]):\n",
    "        self.state = sig.lfiltic(self.b, self.a, [], init)"
   ]
  },
  {
   "cell_type": "code",
   "execution_count": 26,
   "metadata": {},
   "outputs": [],
   "source": [
    "diff = Filter([1, -1])\n",
    "def fix_diff(x):\n",
    "    x[x > math.pi] -= 2 * math.pi\n",
    "    x[x < -math.pi] += 2 * math.pi\n",
    "    return x"
   ]
  },
  {
   "cell_type": "code",
   "execution_count": 27,
   "metadata": {},
   "outputs": [],
   "source": [
    "def block_reciever(samples, div, Fs, Fc, last_ph):\n",
    "    s1 = mult_by_exp(samples, Fc, Fs, last_ph)\n",
    "    b,a = sg.iirdesign(4000, min(2*Fc, Fs-2*Fc)-4000, 1, 100, fs=Fs)\n",
    "    s2 = sg.lfilter(b, a, s1)\n",
    "    s3 = np.angle(s2)\n",
    "    s4 = diff(s3)\n",
    "    s5 = fix_diff(s4.copy())\n",
    "    s6 = amplify(s5, div, Fs)/2/np.pi\n",
    "    return s6"
   ]
  },
  {
   "cell_type": "code",
   "execution_count": 28,
   "metadata": {},
   "outputs": [
    {
     "name": "stdout",
     "output_type": "stream",
     "text": [
      "3423000\n"
     ]
    }
   ],
   "source": [
    "samples, Fs = sf.read('encoded.flac')\n",
    "N = int(len(samples) / 1000)\n",
    "#s = block_receiver(samples[:1000], 1e3, Fs, 7000)\n",
    "last_ph = 0\n",
    "Fc = 7000\n",
    "div = 1e3\n",
    "\n",
    "lpf = Filter(*sg.iirdesign(4000, min(2*Fc, Fs-2*Fc)-4000, 1, 100, fs=Fs))\n",
    "s = np.array([])\n",
    "for i in range(0,N-1):\n",
    "    samp = samples[i*1000:(i+1)*1000]\n",
    "    s1 = mult_by_exp(samp, Fc, Fs)*np.exp(-1j * last_ph)\n",
    "    s2 = lpf(s1)\n",
    "    s3 = np.angle(s2)\n",
    "    s4 = diff(s3)\n",
    "    s5 = fix_diff(s4.copy())\n",
    "    s6 = amplify(s5, div, Fs)/2/np.pi\n",
    "    s = np.concatenate([s, s6])\n",
    "    last_ph = last_ph + len(samp) * 2 * np.pi * Fc / Fs\n",
    "print(len(s))\n"
   ]
  },
  {
   "cell_type": "code",
   "execution_count": 29,
   "metadata": {},
   "outputs": [],
   "source": [
    "wavio.write(\"sig4.mp3\", s, Fs, sampwidth=2)"
   ]
  }
 ],
 "metadata": {
  "kernelspec": {
   "display_name": "Python 3 (ipykernel)",
   "language": "python",
   "name": "python3"
  },
  "language_info": {
   "codemirror_mode": {
    "name": "ipython",
    "version": 3
   },
   "file_extension": ".py",
   "mimetype": "text/x-python",
   "name": "python",
   "nbconvert_exporter": "python",
   "pygments_lexer": "ipython3",
   "version": "3.8.10"
  }
 },
 "nbformat": 4,
 "nbformat_minor": 4
}
