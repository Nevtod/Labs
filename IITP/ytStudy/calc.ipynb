{
 "cells": [
  {
   "cell_type": "code",
   "execution_count": 1,
   "metadata": {},
   "outputs": [],
   "source": [
    "from mitmproxy import http, ctx\n",
    "import time, re\n",
    "import logging\n",
    "import os\n",
    "from selenium import webdriver\n",
    "import threading\n",
    "\n",
    "# import selenium.webdriver."
   ]
  },
  {
   "cell_type": "code",
   "execution_count": 2,
   "metadata": {},
   "outputs": [],
   "source": [
    "mitmdump_load_time = 1\n",
    "script = \"mitmdump_script.py\"\n",
    "\n",
    "def StartMITMDump(start_file):\n",
    "    # TODO change path to MITMdump\n",
    "    os.system(\"mitmdump -w \" + start_file + \" '~t video/webm | ~t video/mp4'\")\n",
    "    \n",
    "def StopMITMDump(duration, dataPageLoaded = False):\n",
    "    time.sleep(duration)\n",
    "    os.system(\"pkill mitmdump\")\n",
    "    \n",
    "def ReceiveData(script, file):\n",
    "    # TODO change path to MITMdump\n",
    "    os.system(\"mitmdump -s \" + script + \" -nr \" + file)\n",
    "\n",
    "def convert_to_bytes_per_second(br):\n",
    "    return br * 2**10 / 8"
   ]
  },
  {
   "cell_type": "code",
   "execution_count": 3,
   "metadata": {},
   "outputs": [],
   "source": [
    "# br - kbps\n",
    "def run_test(br, plr, latency, url, exp_time, headless=True, use_chrome_limiter=True, folder='data/'):\n",
    "    # Create a network conditions object to limit bandwidth to br bytes per second\n",
    "    print(f\"Network limit: {convert_to_bytes_per_second(br)}\")\n",
    "    to_set = convert_to_bytes_per_second(br)\n",
    "    network_conditions = {\n",
    "        'offline': False,\n",
    "        'latency': latency, # ms\n",
    "        'download_throughput': to_set, # bytes/s\n",
    "        'upload_throughput': -1, # bytes/s\n",
    "        'packet_loss_rate': plr # 0-1\n",
    "    }\n",
    "    # Initialize the Chrome browser driver with network conditions and proxy settings\n",
    "    start_file = folder + f'requests_{br}kbps.txt' #Файл, в который пойдёт весь отфильтрованый поток\n",
    "    data_file = folder + f'processed_{br}kbps_{latency}ms.txt' #Файл, куда будут сохранены нужные, раскодированные данные\n",
    "    with open (\"save.txt\", \"w\") as f: #Файл для передачи названия конечного файла скрипту\n",
    "        f.write(data_file)\n",
    "    os.system(f\"rm {data_file}\")\n",
    "    os.system(f\"rm {start_file}\")\n",
    "    \n",
    "    chrome_options = webdriver.ChromeOptions()\n",
    "    chrome_options.add_argument('--proxy-server=localhost:8080')\n",
    "    chrome_options.add_argument('--ignore-certificate-errors')\n",
    "    chrome_options.add_argument('--disable-web-security')\n",
    "    chrome_options.add_argument('--allow-running-insecure-content')\n",
    "    chrome_options.add_argument('--start-maximized')\n",
    "    chrome_options.add_argument('--disable-extensions')\n",
    "    chrome_options.add_argument('--no-sandbox')\n",
    "    chrome_options.add_argument('--disable-dev-shm-usage')\n",
    "    chrome_options.add_argument('--disable-infobars')\n",
    "    #chrome_options.add_argument('--disable-gpu')\n",
    "    if headless:\n",
    "        chrome_options.add_argument('--headless')\n",
    "    #options.add_argument(url)\n",
    "    data_page_loaded = False\n",
    "\n",
    "    print(\"Loading driver...\")\n",
    "    driver = webdriver.Chrome(options=chrome_options, service_log_path=os.devnull, service_args=['--log-path=./chromedriver.log'])\n",
    "    if headless:\n",
    "        # Если запускаем в headless режиме, то нужно увеличить размер окна браузера, иначе не сработает нажатие на кнопку\n",
    "        driver.set_window_size(1920, 1080)\n",
    "    thread1 = threading.Thread(target=StopMITMDump, args=(exp_time, data_page_loaded))\n",
    "    thread2 = threading.Thread(target=StartMITMDump, args=(start_file, ))\n",
    "    print(\"Starting mitmdump...\")\n",
    "    thread2.start()\n",
    "    time.sleep(mitmdump_load_time)\n",
    "    \n",
    "    # Navigate to the YouTube video URL\n",
    "    print(\"Getting url...\")\n",
    "    driver.get(url)\n",
    "    print(\"Setting network conditions...\")\n",
    "    driver.execute_script(\"document.getElementsByTagName('video')[0].muted = true;\")\n",
    "    if use_chrome_limiter:\n",
    "        driver.set_network_conditions(**network_conditions)\n",
    "    \n",
    "    #Find and click the Play button\n",
    "    print(\"Finding play element...\")\n",
    "    play_button = driver.find_element('css selector', '.ytp-play-button')\n",
    "    print(\"Clicking...\")\n",
    "    time.sleep(0.1)\n",
    "    play_button.click()\n",
    "    \n",
    "    time.sleep(0.1)\n",
    "    print(\"Finding full screen element...\")\n",
    "    full_screen_button = driver.find_element('css selector', '.ytp-fullscreen-button')\n",
    "    print(\"Clicking...\")\n",
    "    time.sleep(0.1)\n",
    "    full_screen_button.click()\n",
    "    \n",
    "    #play_video(driver)\n",
    "    thread1.start()\n",
    "    # Wait for the video to start playing\n",
    "    print(f\"Sleeping for {exp_time} seconds...\")\n",
    "    time.sleep(exp_time)\n",
    "\n",
    "    # Stop the video\n",
    "    action = webdriver.ActionChains(driver)\n",
    "    action.send_keys(webdriver.Keys.SPACE).perform()\n",
    "\n",
    "    # Close the browser window\n",
    "    driver.quit()\n",
    "    thread1.join()\n",
    "    thread2.join()\n",
    "    print('REceiving data...')\n",
    "    ReceiveData(script, start_file) #Записываем нужные данные в файл при помощи скрипта.\n",
    "    # Если встречаются неизвестные itag-и, можно найти, чему они соответствуют с помощью youtube-dl -F [ссылка на видео]\n",
    "    print('Experiment done.')"
   ]
  },
  {
   "cell_type": "code",
   "execution_count": null,
   "metadata": {},
   "outputs": [],
   "source": []
  },
  {
   "cell_type": "code",
   "execution_count": 4,
   "metadata": {},
   "outputs": [
    {
     "name": "stdout",
     "output_type": "stream",
     "text": [
      "We made 68 RESPs\n"
     ]
    },
    {
     "data": {
      "text/html": [
       "<div>\n",
       "<style scoped>\n",
       "    .dataframe tbody tr th:only-of-type {\n",
       "        vertical-align: middle;\n",
       "    }\n",
       "\n",
       "    .dataframe tbody tr th {\n",
       "        vertical-align: top;\n",
       "    }\n",
       "\n",
       "    .dataframe thead th {\n",
       "        text-align: right;\n",
       "    }\n",
       "</style>\n",
       "<table border=\"1\" class=\"dataframe\">\n",
       "  <thead>\n",
       "    <tr style=\"text-align: right;\">\n",
       "      <th></th>\n",
       "      <th>aitag</th>\n",
       "      <th>range_start</th>\n",
       "      <th>range_end</th>\n",
       "      <th>itag</th>\n",
       "      <th>mime</th>\n",
       "      <th>duration</th>\n",
       "      <th>buffer</th>\n",
       "      <th>clen</th>\n",
       "      <th>request_start</th>\n",
       "      <th>request_complete</th>\n",
       "      <th>response_start</th>\n",
       "      <th>response_complete</th>\n",
       "    </tr>\n",
       "  </thead>\n",
       "  <tbody>\n",
       "    <tr>\n",
       "      <th>0</th>\n",
       "      <td>480 px</td>\n",
       "      <td>0</td>\n",
       "      <td>197486</td>\n",
       "      <td>video/mp4</td>\n",
       "      <td>397.0</td>\n",
       "      <td>3342.138</td>\n",
       "      <td>0.0</td>\n",
       "      <td>186965685.0</td>\n",
       "      <td>0.000000</td>\n",
       "      <td>0.000718</td>\n",
       "      <td>0.012607</td>\n",
       "      <td>0.092910</td>\n",
       "    </tr>\n",
       "    <tr>\n",
       "      <th>1</th>\n",
       "      <td>720 px</td>\n",
       "      <td>0</td>\n",
       "      <td>8243</td>\n",
       "      <td>video/mp4</td>\n",
       "      <td>398.0</td>\n",
       "      <td>3342.138</td>\n",
       "      <td>0.0</td>\n",
       "      <td>386995805.0</td>\n",
       "      <td>0.058825</td>\n",
       "      <td>0.059753</td>\n",
       "      <td>0.093177</td>\n",
       "      <td>0.095795</td>\n",
       "    </tr>\n",
       "    <tr>\n",
       "      <th>2</th>\n",
       "      <td>480 px</td>\n",
       "      <td>197487</td>\n",
       "      <td>213379</td>\n",
       "      <td>video/mp4</td>\n",
       "      <td>397.0</td>\n",
       "      <td>3342.138</td>\n",
       "      <td>9973.0</td>\n",
       "      <td>186965685.0</td>\n",
       "      <td>0.139710</td>\n",
       "      <td>0.140356</td>\n",
       "      <td>0.169979</td>\n",
       "      <td>0.172303</td>\n",
       "    </tr>\n",
       "    <tr>\n",
       "      <th>3</th>\n",
       "      <td>720 px</td>\n",
       "      <td>562830</td>\n",
       "      <td>2584285</td>\n",
       "      <td>video/mp4</td>\n",
       "      <td>398.0</td>\n",
       "      <td>3342.138</td>\n",
       "      <td>10677.0</td>\n",
       "      <td>386995805.0</td>\n",
       "      <td>0.181582</td>\n",
       "      <td>0.182082</td>\n",
       "      <td>0.209524</td>\n",
       "      <td>0.746566</td>\n",
       "    </tr>\n",
       "    <tr>\n",
       "      <th>4</th>\n",
       "      <td>720 px</td>\n",
       "      <td>2584286</td>\n",
       "      <td>3478122</td>\n",
       "      <td>video/mp4</td>\n",
       "      <td>398.0</td>\n",
       "      <td>3342.138</td>\n",
       "      <td>20375.0</td>\n",
       "      <td>386995805.0</td>\n",
       "      <td>10.964187</td>\n",
       "      <td>10.966025</td>\n",
       "      <td>11.075515</td>\n",
       "      <td>11.280845</td>\n",
       "    </tr>\n",
       "    <tr>\n",
       "      <th>...</th>\n",
       "      <td>...</td>\n",
       "      <td>...</td>\n",
       "      <td>...</td>\n",
       "      <td>...</td>\n",
       "      <td>...</td>\n",
       "      <td>...</td>\n",
       "      <td>...</td>\n",
       "      <td>...</td>\n",
       "      <td>...</td>\n",
       "      <td>...</td>\n",
       "      <td>...</td>\n",
       "      <td>...</td>\n",
       "    </tr>\n",
       "    <tr>\n",
       "      <th>63</th>\n",
       "      <td>480 px</td>\n",
       "      <td>50721083</td>\n",
       "      <td>52724408</td>\n",
       "      <td>video/mp4</td>\n",
       "      <td>397.0</td>\n",
       "      <td>3342.138</td>\n",
       "      <td>119139.0</td>\n",
       "      <td>186965685.0</td>\n",
       "      <td>782.413472</td>\n",
       "      <td>782.414703</td>\n",
       "      <td>782.486006</td>\n",
       "      <td>783.002324</td>\n",
       "    </tr>\n",
       "    <tr>\n",
       "      <th>64</th>\n",
       "      <td>480 px</td>\n",
       "      <td>52724409</td>\n",
       "      <td>54758159</td>\n",
       "      <td>video/mp4</td>\n",
       "      <td>397.0</td>\n",
       "      <td>3342.138</td>\n",
       "      <td>119281.0</td>\n",
       "      <td>186965685.0</td>\n",
       "      <td>814.293137</td>\n",
       "      <td>814.294111</td>\n",
       "      <td>814.321776</td>\n",
       "      <td>814.874453</td>\n",
       "    </tr>\n",
       "    <tr>\n",
       "      <th>65</th>\n",
       "      <td>480 px</td>\n",
       "      <td>54758160</td>\n",
       "      <td>56680275</td>\n",
       "      <td>video/mp4</td>\n",
       "      <td>397.0</td>\n",
       "      <td>3342.138</td>\n",
       "      <td>119438.0</td>\n",
       "      <td>186965685.0</td>\n",
       "      <td>846.133383</td>\n",
       "      <td>846.134643</td>\n",
       "      <td>846.176719</td>\n",
       "      <td>846.697549</td>\n",
       "    </tr>\n",
       "    <tr>\n",
       "      <th>66</th>\n",
       "      <td>480 px</td>\n",
       "      <td>56680276</td>\n",
       "      <td>58384441</td>\n",
       "      <td>video/mp4</td>\n",
       "      <td>397.0</td>\n",
       "      <td>3342.138</td>\n",
       "      <td>119621.0</td>\n",
       "      <td>186965685.0</td>\n",
       "      <td>883.354352</td>\n",
       "      <td>883.355026</td>\n",
       "      <td>883.368325</td>\n",
       "      <td>883.806559</td>\n",
       "    </tr>\n",
       "    <tr>\n",
       "      <th>67</th>\n",
       "      <td>480 px</td>\n",
       "      <td>58384442</td>\n",
       "      <td>60233550</td>\n",
       "      <td>video/mp4</td>\n",
       "      <td>397.0</td>\n",
       "      <td>3342.138</td>\n",
       "      <td>119726.0</td>\n",
       "      <td>186965685.0</td>\n",
       "      <td>904.614179</td>\n",
       "      <td>904.615198</td>\n",
       "      <td>904.647175</td>\n",
       "      <td>883.806559</td>\n",
       "    </tr>\n",
       "  </tbody>\n",
       "</table>\n",
       "<p>68 rows × 12 columns</p>\n",
       "</div>"
      ],
      "text/plain": [
       "     aitag  range_start  range_end       itag   mime  duration    buffer  \\\n",
       "0   480 px            0     197486  video/mp4  397.0  3342.138       0.0   \n",
       "1   720 px            0       8243  video/mp4  398.0  3342.138       0.0   \n",
       "2   480 px       197487     213379  video/mp4  397.0  3342.138    9973.0   \n",
       "3   720 px       562830    2584285  video/mp4  398.0  3342.138   10677.0   \n",
       "4   720 px      2584286    3478122  video/mp4  398.0  3342.138   20375.0   \n",
       "..     ...          ...        ...        ...    ...       ...       ...   \n",
       "63  480 px     50721083   52724408  video/mp4  397.0  3342.138  119139.0   \n",
       "64  480 px     52724409   54758159  video/mp4  397.0  3342.138  119281.0   \n",
       "65  480 px     54758160   56680275  video/mp4  397.0  3342.138  119438.0   \n",
       "66  480 px     56680276   58384441  video/mp4  397.0  3342.138  119621.0   \n",
       "67  480 px     58384442   60233550  video/mp4  397.0  3342.138  119726.0   \n",
       "\n",
       "           clen  request_start  request_complete  response_start  \\\n",
       "0   186965685.0       0.000000          0.000718        0.012607   \n",
       "1   386995805.0       0.058825          0.059753        0.093177   \n",
       "2   186965685.0       0.139710          0.140356        0.169979   \n",
       "3   386995805.0       0.181582          0.182082        0.209524   \n",
       "4   386995805.0      10.964187         10.966025       11.075515   \n",
       "..          ...            ...               ...             ...   \n",
       "63  186965685.0     782.413472        782.414703      782.486006   \n",
       "64  186965685.0     814.293137        814.294111      814.321776   \n",
       "65  186965685.0     846.133383        846.134643      846.176719   \n",
       "66  186965685.0     883.354352        883.355026      883.368325   \n",
       "67  186965685.0     904.614179        904.615198      904.647175   \n",
       "\n",
       "    response_complete  \n",
       "0            0.092910  \n",
       "1            0.095795  \n",
       "2            0.172303  \n",
       "3            0.746566  \n",
       "4           11.280845  \n",
       "..                ...  \n",
       "63         783.002324  \n",
       "64         814.874453  \n",
       "65         846.697549  \n",
       "66         883.806559  \n",
       "67         883.806559  \n",
       "\n",
       "[68 rows x 12 columns]"
      ]
     },
     "execution_count": 4,
     "metadata": {},
     "output_type": "execute_result"
    }
   ],
   "source": [
    "import pandas as pd\n",
    "import numpy as np\n",
    "\n",
    "# br=1000\n",
    "def get_df(br, latency): #bandwidth rate\n",
    "    data_file = \"data/\" + f'processed_{br}kbps_{latency}ms.txt'\n",
    "    d = []\n",
    "    itags = {\"133\":\"240 px\", \"134\":\"360 px\", \"135\": \"480 px\", \"136\": \"720 px\", \"137\": \"1080 px\", \"160\": \"144 px\", \n",
    "        \"264\": \"1440 px\", \"298\": \"720 px\", \"299\": \"1080 px\", \"167\": \"360 px\", \"168\": \"480 px\", \"169\": \"720 px\",\n",
    "        \"170\" : \"1080 px\", \"218\": \"480 px\", \"219\": \"144 px\", \"242\": \"240 px\", \"243\": \"360 px\", \"244\": \"480 px\", \n",
    "        \"245\": \"480 px\", \"246\": \"480 px\", \"247\": \"720 px\", \"248\": \"1080 px\", \"271\": \"1440 px\", \"278\": \"144 px\",\n",
    "        '399': '1080 px', '398': '720 px', '397': '480 px', '396': '360 px', '400': '1440 px', '401': '2160 px',\n",
    "        '395' : '240 px'} \n",
    "\n",
    "    names = {\n",
    "        \"itag\" : str,\n",
    "        \"mime\":  str, \n",
    "        \"duration\": float,  #ms \n",
    "        \"buffer\": float, \n",
    "        \"clen\": float,  # byte\n",
    "        \"request_start\": float, \n",
    "        \"request_complete\": float, \n",
    "        \"response_start\": float, \n",
    "        \"response_complete\": float,\n",
    "        \"aitag\": str, \n",
    "        \"range_start\": int, \n",
    "        \"range_end\": int, \n",
    "    }\n",
    "    namesList = list(names.keys())\n",
    "    \n",
    "    # Если встречаются неизвестные itag-и, можно найти, чему они соответствуют с помощью youtube-dl -F [ссылка на видео]\n",
    "    with open(data_file, \"r\") as f:\n",
    "        a = [line.replace(\"\\n\",\"\").split(\",\") for line in f.readlines()]\n",
    "    print(f\"We made {len(a)} RESPs\")\n",
    "    for idx, val in enumerate(a):\n",
    "        if val[1] not in itags:\n",
    "            print(f\"BAD {val[1]} ITAG\")    \n",
    "        dataDict = {}\n",
    "        dataDict[\"aitag\"] = itags[val[1]]\n",
    "        \n",
    "        ranges = val[3].split('-')\n",
    "        dataDict[\"range_start\"] = ranges[0]\n",
    "        dataDict[\"range_end\"] = ranges[1]\n",
    "        val.pop(3)\n",
    "        \n",
    "        for i in range(9):\n",
    "            if len(list(filter(lambda s: not s.isnumeric(), val[i].split(\".\")))) == 0:\n",
    "                dataDict[namesList[i]] = float(val[i])\n",
    "            elif val[i] == \"None\":\n",
    "                dataDict[namesList[i]] = d[-1][namesList[i]]\n",
    "            else:\n",
    "                dataDict[namesList[i]] = val[i]\n",
    "        \n",
    "        d.append(dataDict)\n",
    "        # d.append({\"mime\":val[0], \"itag\" : val[1], \"aitag\":itags[val[1]], \"duration\":val[2], \"range_start\":ranges[0], \"range_end\": ranges[1], \n",
    "        #         \"buffer\":val[4], \"clen\":val[5],\"first_request_byte\":val[6], \"request_complete\": float(val[7]) / 1e6, \n",
    "        #         \"first_response_byte\":val[8], \"response_complete\": -1 if val[9] == \"None\" else float(val[9]) / 1e6})\n",
    "    \n",
    "    df = pd.DataFrame(d).astype(names)\n",
    "    return df\n",
    "\n",
    "df = get_df(1037, 12)\n",
    "df[\"request_complete\"]  -= df[\"request_start\"][0]\n",
    "df[\"response_start\"]    -= df[\"request_start\"][0]\n",
    "df[\"response_complete\"] -= df[\"request_start\"][0]\n",
    "df[\"request_start\"]     -= df[\"request_start\"][0]\n",
    "\n",
    "# df[\"request_complete\"]  *= 1000 # ms\n",
    "# df[\"response_start\"]    *= 1000 # ms\n",
    "# df[\"response_complete\"] *= 1000 # ms\n",
    "# df[\"request_start\"]     *= 1000 # ms\n",
    "df"
   ]
  },
  {
   "cell_type": "code",
   "execution_count": 5,
   "metadata": {},
   "outputs": [],
   "source": [
    "#lat : eff_rate\n",
    "\n",
    "def find_effective_rate(latency=0, quality=720, exp_time=60):\n",
    "    aitag = f\"{quality} px\"\n",
    "    l = 1000\n",
    "    r = 1060\n",
    "    \n",
    "    while r - l > 5:\n",
    "        m = (l + r) // 2\n",
    "        \n",
    "        run_test(br=m, plr=0, latency=latency, url=\"https://www.youtube.com/watch?v=lyh2kAjcmSY\", \\\n",
    "                exp_time=exp_time, headless=True, use_chrome_limiter=True, folder='data/')\n",
    "        df = get_df(m, latency)\n",
    "        lastAitags = df[\"aitag\"][-6:]\n",
    "        \n",
    "        if len(list(filter(lambda s : int(s.split(' ')[0]) >= quality, lastAitags))) > 4:\n",
    "            r = m\n",
    "            print(f\"upd r={m}\")\n",
    "        else:\n",
    "            l = m  \n",
    "            print(f\"upd l={m}\")\n",
    "    return r\n",
    "\n",
    "latency = 12    \n",
    "# ef_rate = find_effective_rate(latency)\n",
    "# print(f\"effective rate = {ef_rate}, latency = {latency}\")\n"
   ]
  },
  {
   "cell_type": "code",
   "execution_count": 32,
   "metadata": {},
   "outputs": [
    {
     "data": {
      "application/vnd.plotly.v1+json": {
       "config": {
        "plotlyServerURL": "https://plot.ly"
       },
       "data": [
        {
         "mode": "lines+markers",
         "type": "scatter",
         "x": [
          0,
          5,
          10,
          12,
          15,
          25,
          28,
          30,
          35,
          50,
          100,
          250,
          500,
          1000
         ],
         "y": [
          1031,
          1000,
          1018,
          1037,
          1048,
          1056,
          1112,
          1093,
          1093,
          1132,
          1120,
          1156,
          1192,
          1280
         ]
        }
       ],
       "layout": {
        "template": {
         "data": {
          "bar": [
           {
            "error_x": {
             "color": "#2a3f5f"
            },
            "error_y": {
             "color": "#2a3f5f"
            },
            "marker": {
             "line": {
              "color": "#E5ECF6",
              "width": 0.5
             },
             "pattern": {
              "fillmode": "overlay",
              "size": 10,
              "solidity": 0.2
             }
            },
            "type": "bar"
           }
          ],
          "barpolar": [
           {
            "marker": {
             "line": {
              "color": "#E5ECF6",
              "width": 0.5
             },
             "pattern": {
              "fillmode": "overlay",
              "size": 10,
              "solidity": 0.2
             }
            },
            "type": "barpolar"
           }
          ],
          "carpet": [
           {
            "aaxis": {
             "endlinecolor": "#2a3f5f",
             "gridcolor": "white",
             "linecolor": "white",
             "minorgridcolor": "white",
             "startlinecolor": "#2a3f5f"
            },
            "baxis": {
             "endlinecolor": "#2a3f5f",
             "gridcolor": "white",
             "linecolor": "white",
             "minorgridcolor": "white",
             "startlinecolor": "#2a3f5f"
            },
            "type": "carpet"
           }
          ],
          "choropleth": [
           {
            "colorbar": {
             "outlinewidth": 0,
             "ticks": ""
            },
            "type": "choropleth"
           }
          ],
          "contour": [
           {
            "colorbar": {
             "outlinewidth": 0,
             "ticks": ""
            },
            "colorscale": [
             [
              0,
              "#0d0887"
             ],
             [
              0.1111111111111111,
              "#46039f"
             ],
             [
              0.2222222222222222,
              "#7201a8"
             ],
             [
              0.3333333333333333,
              "#9c179e"
             ],
             [
              0.4444444444444444,
              "#bd3786"
             ],
             [
              0.5555555555555556,
              "#d8576b"
             ],
             [
              0.6666666666666666,
              "#ed7953"
             ],
             [
              0.7777777777777778,
              "#fb9f3a"
             ],
             [
              0.8888888888888888,
              "#fdca26"
             ],
             [
              1,
              "#f0f921"
             ]
            ],
            "type": "contour"
           }
          ],
          "contourcarpet": [
           {
            "colorbar": {
             "outlinewidth": 0,
             "ticks": ""
            },
            "type": "contourcarpet"
           }
          ],
          "heatmap": [
           {
            "colorbar": {
             "outlinewidth": 0,
             "ticks": ""
            },
            "colorscale": [
             [
              0,
              "#0d0887"
             ],
             [
              0.1111111111111111,
              "#46039f"
             ],
             [
              0.2222222222222222,
              "#7201a8"
             ],
             [
              0.3333333333333333,
              "#9c179e"
             ],
             [
              0.4444444444444444,
              "#bd3786"
             ],
             [
              0.5555555555555556,
              "#d8576b"
             ],
             [
              0.6666666666666666,
              "#ed7953"
             ],
             [
              0.7777777777777778,
              "#fb9f3a"
             ],
             [
              0.8888888888888888,
              "#fdca26"
             ],
             [
              1,
              "#f0f921"
             ]
            ],
            "type": "heatmap"
           }
          ],
          "heatmapgl": [
           {
            "colorbar": {
             "outlinewidth": 0,
             "ticks": ""
            },
            "colorscale": [
             [
              0,
              "#0d0887"
             ],
             [
              0.1111111111111111,
              "#46039f"
             ],
             [
              0.2222222222222222,
              "#7201a8"
             ],
             [
              0.3333333333333333,
              "#9c179e"
             ],
             [
              0.4444444444444444,
              "#bd3786"
             ],
             [
              0.5555555555555556,
              "#d8576b"
             ],
             [
              0.6666666666666666,
              "#ed7953"
             ],
             [
              0.7777777777777778,
              "#fb9f3a"
             ],
             [
              0.8888888888888888,
              "#fdca26"
             ],
             [
              1,
              "#f0f921"
             ]
            ],
            "type": "heatmapgl"
           }
          ],
          "histogram": [
           {
            "marker": {
             "pattern": {
              "fillmode": "overlay",
              "size": 10,
              "solidity": 0.2
             }
            },
            "type": "histogram"
           }
          ],
          "histogram2d": [
           {
            "colorbar": {
             "outlinewidth": 0,
             "ticks": ""
            },
            "colorscale": [
             [
              0,
              "#0d0887"
             ],
             [
              0.1111111111111111,
              "#46039f"
             ],
             [
              0.2222222222222222,
              "#7201a8"
             ],
             [
              0.3333333333333333,
              "#9c179e"
             ],
             [
              0.4444444444444444,
              "#bd3786"
             ],
             [
              0.5555555555555556,
              "#d8576b"
             ],
             [
              0.6666666666666666,
              "#ed7953"
             ],
             [
              0.7777777777777778,
              "#fb9f3a"
             ],
             [
              0.8888888888888888,
              "#fdca26"
             ],
             [
              1,
              "#f0f921"
             ]
            ],
            "type": "histogram2d"
           }
          ],
          "histogram2dcontour": [
           {
            "colorbar": {
             "outlinewidth": 0,
             "ticks": ""
            },
            "colorscale": [
             [
              0,
              "#0d0887"
             ],
             [
              0.1111111111111111,
              "#46039f"
             ],
             [
              0.2222222222222222,
              "#7201a8"
             ],
             [
              0.3333333333333333,
              "#9c179e"
             ],
             [
              0.4444444444444444,
              "#bd3786"
             ],
             [
              0.5555555555555556,
              "#d8576b"
             ],
             [
              0.6666666666666666,
              "#ed7953"
             ],
             [
              0.7777777777777778,
              "#fb9f3a"
             ],
             [
              0.8888888888888888,
              "#fdca26"
             ],
             [
              1,
              "#f0f921"
             ]
            ],
            "type": "histogram2dcontour"
           }
          ],
          "mesh3d": [
           {
            "colorbar": {
             "outlinewidth": 0,
             "ticks": ""
            },
            "type": "mesh3d"
           }
          ],
          "parcoords": [
           {
            "line": {
             "colorbar": {
              "outlinewidth": 0,
              "ticks": ""
             }
            },
            "type": "parcoords"
           }
          ],
          "pie": [
           {
            "automargin": true,
            "type": "pie"
           }
          ],
          "scatter": [
           {
            "fillpattern": {
             "fillmode": "overlay",
             "size": 10,
             "solidity": 0.2
            },
            "type": "scatter"
           }
          ],
          "scatter3d": [
           {
            "line": {
             "colorbar": {
              "outlinewidth": 0,
              "ticks": ""
             }
            },
            "marker": {
             "colorbar": {
              "outlinewidth": 0,
              "ticks": ""
             }
            },
            "type": "scatter3d"
           }
          ],
          "scattercarpet": [
           {
            "marker": {
             "colorbar": {
              "outlinewidth": 0,
              "ticks": ""
             }
            },
            "type": "scattercarpet"
           }
          ],
          "scattergeo": [
           {
            "marker": {
             "colorbar": {
              "outlinewidth": 0,
              "ticks": ""
             }
            },
            "type": "scattergeo"
           }
          ],
          "scattergl": [
           {
            "marker": {
             "colorbar": {
              "outlinewidth": 0,
              "ticks": ""
             }
            },
            "type": "scattergl"
           }
          ],
          "scattermapbox": [
           {
            "marker": {
             "colorbar": {
              "outlinewidth": 0,
              "ticks": ""
             }
            },
            "type": "scattermapbox"
           }
          ],
          "scatterpolar": [
           {
            "marker": {
             "colorbar": {
              "outlinewidth": 0,
              "ticks": ""
             }
            },
            "type": "scatterpolar"
           }
          ],
          "scatterpolargl": [
           {
            "marker": {
             "colorbar": {
              "outlinewidth": 0,
              "ticks": ""
             }
            },
            "type": "scatterpolargl"
           }
          ],
          "scatterternary": [
           {
            "marker": {
             "colorbar": {
              "outlinewidth": 0,
              "ticks": ""
             }
            },
            "type": "scatterternary"
           }
          ],
          "surface": [
           {
            "colorbar": {
             "outlinewidth": 0,
             "ticks": ""
            },
            "colorscale": [
             [
              0,
              "#0d0887"
             ],
             [
              0.1111111111111111,
              "#46039f"
             ],
             [
              0.2222222222222222,
              "#7201a8"
             ],
             [
              0.3333333333333333,
              "#9c179e"
             ],
             [
              0.4444444444444444,
              "#bd3786"
             ],
             [
              0.5555555555555556,
              "#d8576b"
             ],
             [
              0.6666666666666666,
              "#ed7953"
             ],
             [
              0.7777777777777778,
              "#fb9f3a"
             ],
             [
              0.8888888888888888,
              "#fdca26"
             ],
             [
              1,
              "#f0f921"
             ]
            ],
            "type": "surface"
           }
          ],
          "table": [
           {
            "cells": {
             "fill": {
              "color": "#EBF0F8"
             },
             "line": {
              "color": "white"
             }
            },
            "header": {
             "fill": {
              "color": "#C8D4E3"
             },
             "line": {
              "color": "white"
             }
            },
            "type": "table"
           }
          ]
         },
         "layout": {
          "annotationdefaults": {
           "arrowcolor": "#2a3f5f",
           "arrowhead": 0,
           "arrowwidth": 1
          },
          "autotypenumbers": "strict",
          "coloraxis": {
           "colorbar": {
            "outlinewidth": 0,
            "ticks": ""
           }
          },
          "colorscale": {
           "diverging": [
            [
             0,
             "#8e0152"
            ],
            [
             0.1,
             "#c51b7d"
            ],
            [
             0.2,
             "#de77ae"
            ],
            [
             0.3,
             "#f1b6da"
            ],
            [
             0.4,
             "#fde0ef"
            ],
            [
             0.5,
             "#f7f7f7"
            ],
            [
             0.6,
             "#e6f5d0"
            ],
            [
             0.7,
             "#b8e186"
            ],
            [
             0.8,
             "#7fbc41"
            ],
            [
             0.9,
             "#4d9221"
            ],
            [
             1,
             "#276419"
            ]
           ],
           "sequential": [
            [
             0,
             "#0d0887"
            ],
            [
             0.1111111111111111,
             "#46039f"
            ],
            [
             0.2222222222222222,
             "#7201a8"
            ],
            [
             0.3333333333333333,
             "#9c179e"
            ],
            [
             0.4444444444444444,
             "#bd3786"
            ],
            [
             0.5555555555555556,
             "#d8576b"
            ],
            [
             0.6666666666666666,
             "#ed7953"
            ],
            [
             0.7777777777777778,
             "#fb9f3a"
            ],
            [
             0.8888888888888888,
             "#fdca26"
            ],
            [
             1,
             "#f0f921"
            ]
           ],
           "sequentialminus": [
            [
             0,
             "#0d0887"
            ],
            [
             0.1111111111111111,
             "#46039f"
            ],
            [
             0.2222222222222222,
             "#7201a8"
            ],
            [
             0.3333333333333333,
             "#9c179e"
            ],
            [
             0.4444444444444444,
             "#bd3786"
            ],
            [
             0.5555555555555556,
             "#d8576b"
            ],
            [
             0.6666666666666666,
             "#ed7953"
            ],
            [
             0.7777777777777778,
             "#fb9f3a"
            ],
            [
             0.8888888888888888,
             "#fdca26"
            ],
            [
             1,
             "#f0f921"
            ]
           ]
          },
          "colorway": [
           "#636efa",
           "#EF553B",
           "#00cc96",
           "#ab63fa",
           "#FFA15A",
           "#19d3f3",
           "#FF6692",
           "#B6E880",
           "#FF97FF",
           "#FECB52"
          ],
          "font": {
           "color": "#2a3f5f"
          },
          "geo": {
           "bgcolor": "white",
           "lakecolor": "white",
           "landcolor": "#E5ECF6",
           "showlakes": true,
           "showland": true,
           "subunitcolor": "white"
          },
          "hoverlabel": {
           "align": "left"
          },
          "hovermode": "closest",
          "mapbox": {
           "style": "light"
          },
          "paper_bgcolor": "white",
          "plot_bgcolor": "#E5ECF6",
          "polar": {
           "angularaxis": {
            "gridcolor": "white",
            "linecolor": "white",
            "ticks": ""
           },
           "bgcolor": "#E5ECF6",
           "radialaxis": {
            "gridcolor": "white",
            "linecolor": "white",
            "ticks": ""
           }
          },
          "scene": {
           "xaxis": {
            "backgroundcolor": "#E5ECF6",
            "gridcolor": "white",
            "gridwidth": 2,
            "linecolor": "white",
            "showbackground": true,
            "ticks": "",
            "zerolinecolor": "white"
           },
           "yaxis": {
            "backgroundcolor": "#E5ECF6",
            "gridcolor": "white",
            "gridwidth": 2,
            "linecolor": "white",
            "showbackground": true,
            "ticks": "",
            "zerolinecolor": "white"
           },
           "zaxis": {
            "backgroundcolor": "#E5ECF6",
            "gridcolor": "white",
            "gridwidth": 2,
            "linecolor": "white",
            "showbackground": true,
            "ticks": "",
            "zerolinecolor": "white"
           }
          },
          "shapedefaults": {
           "line": {
            "color": "#2a3f5f"
           }
          },
          "ternary": {
           "aaxis": {
            "gridcolor": "white",
            "linecolor": "white",
            "ticks": ""
           },
           "baxis": {
            "gridcolor": "white",
            "linecolor": "white",
            "ticks": ""
           },
           "bgcolor": "#E5ECF6",
           "caxis": {
            "gridcolor": "white",
            "linecolor": "white",
            "ticks": ""
           }
          },
          "title": {
           "x": 0.05
          },
          "xaxis": {
           "automargin": true,
           "gridcolor": "white",
           "linecolor": "white",
           "ticks": "",
           "title": {
            "standoff": 15
           },
           "zerolinecolor": "white",
           "zerolinewidth": 2
          },
          "yaxis": {
           "automargin": true,
           "gridcolor": "white",
           "linecolor": "white",
           "ticks": "",
           "title": {
            "standoff": 15
           },
           "zerolinecolor": "white",
           "zerolinewidth": 2
          }
         }
        },
        "xaxis": {
         "title": {
          "text": "Задержка, мс"
         }
        },
        "yaxis": {
         "title": {
          "text": "Эфф. битрейт, кбит/c"
         }
        }
       }
      }
     },
     "metadata": {},
     "output_type": "display_data"
    }
   ],
   "source": [
    "import plotly\n",
    "import plotly.graph_objs as go\n",
    "import plotly.express as px\n",
    "from plotly.subplots import make_subplots\n",
    "\n",
    "data = {0 : 1031,\n",
    "        5 : 1000,\n",
    "        10 : 1018,\n",
    "        12 : 1037,\n",
    "        15 : 1048,\n",
    "        25 : 1056,\n",
    "        28 : 1112,\n",
    "        30 : 1093,\n",
    "        35 : 1093,\n",
    "        50 : 1132,\n",
    "        100 : 1120,\n",
    "        250 : 1156,\n",
    "        500 : 1192,\n",
    "        1000 : 1280} \n",
    "\n",
    "errors = [ 5,\n",
    "        5,\n",
    "        5,\n",
    "        5,\n",
    "        5,\n",
    "        20,\n",
    "        20,\n",
    "        20,\n",
    "        20,\n",
    "        20,\n",
    "        20,\n",
    "        20,\n",
    "        20,\n",
    "        20\n",
    "        \n",
    "]\n",
    "\n",
    "xs = list(data.keys())\n",
    "ys = list(data.values())\n",
    "fig = go.Figure()\n",
    "fig.add_trace(go.Scatter(x =xs, y=ys, mode = \"lines+markers\"))\n",
    "\n",
    "fig.update_layout(xaxis_title=\"Задержка, мс\", yaxis_title=r\"Эфф. битрейт, кбит/c\")\n",
    "fig.write_image(\"images/latency.png\")\n",
    "fig.show()"
   ]
  },
  {
   "cell_type": "code",
   "execution_count": 51,
   "metadata": {},
   "outputs": [
    {
     "name": "stdout",
     "output_type": "stream",
     "text": [
      "We made 68 RESPs\n"
     ]
    },
    {
     "data": {
      "application/vnd.plotly.v1+json": {
       "config": {
        "plotlyServerURL": "https://plot.ly"
       },
       "data": [
        {
         "mode": "lines+markers",
         "name": "Буфер",
         "type": "scatter",
         "x": [
          0,
          0.05882453918457031,
          0.1397104263305664,
          0.18158173561096191,
          10.964187383651733,
          12.026311159133911,
          18.10679054260254,
          24.28611660003662,
          29.621160984039307,
          33.530452251434326,
          38.87320303916931,
          43.024720907211304,
          46.840089082717896,
          62.57006359100342,
          66.26619219779968,
          70.39880156517029,
          78.10753417015076,
          82.16186761856079,
          87.05536460876465,
          92.77682375907898,
          98.5695424079895,
          103.41010594367981,
          111.251868724823,
          116.76972007751465,
          121.85238432884216,
          127.32261204719543,
          135.22639083862305,
          140.031920671463,
          144.85158324241638,
          153.3486955165863,
          159.08064532279968,
          164.67810797691345,
          169.28208947181702,
          176.1814410686493,
          180.9734537601471,
          185.9896595478058,
          190.52609848976135,
          197.5152232646942,
          202.74775004386902,
          208.83858013153076,
          215.43320441246033,
          222.91674709320068,
          231.9236900806427,
          238.18251609802246,
          246.4903061389923,
          256.4175193309784,
          274.01008319854736,
          296.70023131370544,
          316.66230034828186,
          338.0060317516327,
          358.4271731376648,
          377.5501232147217,
          396.67222332954407,
          429.61742997169495,
          461.49161171913147,
          503.98970580101013,
          531.6161916255951,
          563.5009527206421,
          611.3234877586365,
          659.1602325439453,
          691.0383968353271,
          717.6012966632843,
          750.095794916153,
          782.413471698761,
          814.2931365966797,
          846.1333825588226,
          883.3543524742126,
          904.6141793727875
         ],
         "y": [
          0,
          0,
          77.9140625,
          83.4140625,
          159.1796875,
          0,
          144.8515625,
          138.8359375,
          139.0390625,
          149.6171875,
          149.7890625,
          157.9609375,
          170.984375,
          213.3046875,
          228.0390625,
          236.46875,
          218.0703125,
          228.6484375,
          230.9296875,
          229.0625,
          225.109375,
          229.46875,
          208.921875,
          207.046875,
          209.328125,
          209.53125,
          188.984375,
          193.34375,
          197.6953125,
          173,
          169.0546875,
          167.1796875,
          173.609375,
          161.3671875,
          165.71875,
          168,
          174.4296875,
          160.109375,
          162.390625,
          156.34375,
          146.1953125,
          129.796875,
          100.9453125,
          126.0703125,
          153.6484375,
          201.8671875,
          273.4453125,
          345.2265625,
          523.2578125,
          607.4921875,
          697.953125,
          840.4921875,
          899.625,
          934.2578125,
          935.484375,
          937.1171875,
          929.84375,
          930.9453125,
          932.6640625,
          934.3828125,
          935.609375,
          936.6328125,
          931.625,
          930.7734375,
          931.8828125,
          933.109375,
          934.5390625,
          935.359375
         ]
        },
        {
         "mode": "lines+markers",
         "name": "Средняя пропускная способность в окне 6",
         "type": "scatter",
         "x": [
          10.964187383651733,
          12.026311159133911,
          18.10679054260254,
          24.28611660003662,
          29.621160984039307,
          33.530452251434326,
          38.87320303916931,
          43.024720907211304,
          46.840089082717896,
          62.57006359100342,
          66.26619219779968,
          70.39880156517029,
          78.10753417015076,
          82.16186761856079,
          87.05536460876465,
          92.77682375907898,
          98.5695424079895,
          103.41010594367981,
          111.251868724823,
          116.76972007751465,
          121.85238432884216,
          127.32261204719543,
          135.22639083862305,
          140.031920671463,
          144.85158324241638,
          153.3486955165863,
          159.08064532279968,
          164.67810797691345,
          169.28208947181702,
          176.1814410686493,
          180.9734537601471,
          185.9896595478058,
          190.52609848976135,
          197.5152232646942,
          202.74775004386902,
          208.83858013153076,
          215.43320441246033,
          222.91674709320068,
          231.9236900806427,
          238.18251609802246,
          246.4903061389923,
          256.4175193309784,
          274.01008319854736,
          296.70023131370544,
          316.66230034828186,
          338.0060317516327,
          358.4271731376648,
          377.5501232147217,
          396.67222332954407,
          429.61742997169495,
          461.49161171913147,
          503.98970580101013,
          531.6161916255951,
          563.5009527206421,
          611.3234877586365,
          659.1602325439453,
          691.0383968353271,
          717.6012966632843,
          750.095794916153,
          782.413471698761,
          814.2931365966797
         ],
         "y": [
          1335.4142047069818,
          1227.404599369939,
          1079.023737758313,
          795.7447115755075,
          957.8773668860333,
          1275.456964920491,
          891.3345607918594,
          902.9090156459373,
          934.7432064555229,
          837.1862855729582,
          890.1357565877938,
          1027.5335352436946,
          1036.9877902592525,
          998.0862226853409,
          1160.0596232298628,
          1062.5339662832505,
          1040.9596181267143,
          1048.0960139810466,
          1046.7816611097408,
          954.4152385729137,
          1037.4316213264644,
          1073.40763625769,
          987.6648651539113,
          992.1074364150068,
          1055.737490748877,
          1040.142270012172,
          977.7979965180567,
          1077.743291999576,
          1072.4667943343259,
          1113.57586235003,
          1030.603606320442,
          1118.812750363601,
          1117.3270972923212,
          1087.9407197397695,
          1088.7227260040252,
          1043.746758324602,
          1022.9206961674867,
          1054.6522360252172,
          1131.514147848737,
          1112.5357084548018,
          1001.3405171396878,
          958.3557899071326,
          932.3161192815277,
          895.5714242922971,
          901.136079240398,
          916.8282546425156,
          817.9946961548704,
          741.5506275841428,
          614.0059489774724,
          594.1961077148371,
          543.3452096524443,
          501.9683543566476,
          458.5804187444775,
          487.26639887399466,
          498.9174463909761,
          492.06629156575497,
          542.256295524632,
          597.535491505059,
          597.9337929901934,
          546.3866949029292,
          665.7152679156823
         ]
        },
        {
         "mode": "lines+markers",
         "name": "Битрейт видео кБ/с",
         "type": "scatter",
         "x": [
          0,
          0.05882453918457031,
          0.1397104263305664,
          0.18158173561096191,
          10.964187383651733,
          12.026311159133911,
          18.10679054260254,
          24.28611660003662,
          29.621160984039307,
          33.530452251434326,
          38.87320303916931,
          43.024720907211304,
          46.840089082717896,
          62.57006359100342,
          66.26619219779968,
          70.39880156517029,
          78.10753417015076,
          82.16186761856079,
          87.05536460876465,
          92.77682375907898,
          98.5695424079895,
          103.41010594367981,
          111.251868724823,
          116.76972007751465,
          121.85238432884216,
          127.32261204719543,
          135.22639083862305,
          140.031920671463,
          144.85158324241638,
          153.3486955165863,
          159.08064532279968,
          164.67810797691345,
          169.28208947181702,
          176.1814410686493,
          180.9734537601471,
          185.9896595478058,
          190.52609848976135,
          197.5152232646942,
          202.74775004386902,
          208.83858013153076,
          215.43320441246033,
          222.91674709320068,
          231.9236900806427,
          238.18251609802246,
          246.4903061389923,
          256.4175193309784,
          274.01008319854736,
          296.70023131370544,
          316.66230034828186,
          338.0060317516327,
          358.4271731376648,
          377.5501232147217,
          396.67222332954407,
          429.61742997169495,
          461.49161171913147,
          503.98970580101013,
          531.6161916255951,
          563.5009527206421,
          611.3234877586365,
          659.1602325439453,
          691.0383968353271,
          717.6012966632843,
          750.095794916153,
          782.413471698761,
          814.2931365966797,
          846.1333825588226,
          883.3543524742126,
          904.6141793727875
         ],
         "y": [
          437.04640983182026,
          904.6319232067916,
          437.04640983182026,
          904.6319232067916,
          904.6319232067916,
          228.85712491524887,
          904.6319232067916,
          904.6319232067916,
          904.6319232067916,
          904.6319232067916,
          904.6319232067916,
          904.6319232067916,
          904.6319232067916,
          904.6319232067916,
          904.6319232067916,
          904.6319232067916,
          904.6319232067916,
          904.6319232067916,
          904.6319232067916,
          904.6319232067916,
          904.6319232067916,
          904.6319232067916,
          904.6319232067916,
          904.6319232067916,
          904.6319232067916,
          904.6319232067916,
          904.6319232067916,
          904.6319232067916,
          904.6319232067916,
          904.6319232067916,
          904.6319232067916,
          904.6319232067916,
          904.6319232067916,
          904.6319232067916,
          904.6319232067916,
          904.6319232067916,
          904.6319232067916,
          904.6319232067916,
          904.6319232067916,
          904.6319232067916,
          904.6319232067916,
          904.6319232067916,
          437.04640983182026,
          437.04640983182026,
          437.04640983182026,
          437.04640983182026,
          437.04640983182026,
          437.04640983182026,
          437.04640983182026,
          437.04640983182026,
          437.04640983182026,
          437.04640983182026,
          437.04640983182026,
          437.04640983182026,
          437.04640983182026,
          437.04640983182026,
          437.04640983182026,
          437.04640983182026,
          437.04640983182026,
          437.04640983182026,
          437.04640983182026,
          437.04640983182026,
          437.04640983182026,
          437.04640983182026,
          437.04640983182026,
          437.04640983182026,
          437.04640983182026,
          437.04640983182026
         ]
        },
        {
         "mode": "lines+markers",
         "name": "Ограничение битрейта",
         "type": "scatter",
         "x": [
          0,
          880
         ],
         "y": [
          1037,
          1037
         ]
        }
       ],
       "layout": {
        "template": {
         "data": {
          "bar": [
           {
            "error_x": {
             "color": "#2a3f5f"
            },
            "error_y": {
             "color": "#2a3f5f"
            },
            "marker": {
             "line": {
              "color": "#E5ECF6",
              "width": 0.5
             },
             "pattern": {
              "fillmode": "overlay",
              "size": 10,
              "solidity": 0.2
             }
            },
            "type": "bar"
           }
          ],
          "barpolar": [
           {
            "marker": {
             "line": {
              "color": "#E5ECF6",
              "width": 0.5
             },
             "pattern": {
              "fillmode": "overlay",
              "size": 10,
              "solidity": 0.2
             }
            },
            "type": "barpolar"
           }
          ],
          "carpet": [
           {
            "aaxis": {
             "endlinecolor": "#2a3f5f",
             "gridcolor": "white",
             "linecolor": "white",
             "minorgridcolor": "white",
             "startlinecolor": "#2a3f5f"
            },
            "baxis": {
             "endlinecolor": "#2a3f5f",
             "gridcolor": "white",
             "linecolor": "white",
             "minorgridcolor": "white",
             "startlinecolor": "#2a3f5f"
            },
            "type": "carpet"
           }
          ],
          "choropleth": [
           {
            "colorbar": {
             "outlinewidth": 0,
             "ticks": ""
            },
            "type": "choropleth"
           }
          ],
          "contour": [
           {
            "colorbar": {
             "outlinewidth": 0,
             "ticks": ""
            },
            "colorscale": [
             [
              0,
              "#0d0887"
             ],
             [
              0.1111111111111111,
              "#46039f"
             ],
             [
              0.2222222222222222,
              "#7201a8"
             ],
             [
              0.3333333333333333,
              "#9c179e"
             ],
             [
              0.4444444444444444,
              "#bd3786"
             ],
             [
              0.5555555555555556,
              "#d8576b"
             ],
             [
              0.6666666666666666,
              "#ed7953"
             ],
             [
              0.7777777777777778,
              "#fb9f3a"
             ],
             [
              0.8888888888888888,
              "#fdca26"
             ],
             [
              1,
              "#f0f921"
             ]
            ],
            "type": "contour"
           }
          ],
          "contourcarpet": [
           {
            "colorbar": {
             "outlinewidth": 0,
             "ticks": ""
            },
            "type": "contourcarpet"
           }
          ],
          "heatmap": [
           {
            "colorbar": {
             "outlinewidth": 0,
             "ticks": ""
            },
            "colorscale": [
             [
              0,
              "#0d0887"
             ],
             [
              0.1111111111111111,
              "#46039f"
             ],
             [
              0.2222222222222222,
              "#7201a8"
             ],
             [
              0.3333333333333333,
              "#9c179e"
             ],
             [
              0.4444444444444444,
              "#bd3786"
             ],
             [
              0.5555555555555556,
              "#d8576b"
             ],
             [
              0.6666666666666666,
              "#ed7953"
             ],
             [
              0.7777777777777778,
              "#fb9f3a"
             ],
             [
              0.8888888888888888,
              "#fdca26"
             ],
             [
              1,
              "#f0f921"
             ]
            ],
            "type": "heatmap"
           }
          ],
          "heatmapgl": [
           {
            "colorbar": {
             "outlinewidth": 0,
             "ticks": ""
            },
            "colorscale": [
             [
              0,
              "#0d0887"
             ],
             [
              0.1111111111111111,
              "#46039f"
             ],
             [
              0.2222222222222222,
              "#7201a8"
             ],
             [
              0.3333333333333333,
              "#9c179e"
             ],
             [
              0.4444444444444444,
              "#bd3786"
             ],
             [
              0.5555555555555556,
              "#d8576b"
             ],
             [
              0.6666666666666666,
              "#ed7953"
             ],
             [
              0.7777777777777778,
              "#fb9f3a"
             ],
             [
              0.8888888888888888,
              "#fdca26"
             ],
             [
              1,
              "#f0f921"
             ]
            ],
            "type": "heatmapgl"
           }
          ],
          "histogram": [
           {
            "marker": {
             "pattern": {
              "fillmode": "overlay",
              "size": 10,
              "solidity": 0.2
             }
            },
            "type": "histogram"
           }
          ],
          "histogram2d": [
           {
            "colorbar": {
             "outlinewidth": 0,
             "ticks": ""
            },
            "colorscale": [
             [
              0,
              "#0d0887"
             ],
             [
              0.1111111111111111,
              "#46039f"
             ],
             [
              0.2222222222222222,
              "#7201a8"
             ],
             [
              0.3333333333333333,
              "#9c179e"
             ],
             [
              0.4444444444444444,
              "#bd3786"
             ],
             [
              0.5555555555555556,
              "#d8576b"
             ],
             [
              0.6666666666666666,
              "#ed7953"
             ],
             [
              0.7777777777777778,
              "#fb9f3a"
             ],
             [
              0.8888888888888888,
              "#fdca26"
             ],
             [
              1,
              "#f0f921"
             ]
            ],
            "type": "histogram2d"
           }
          ],
          "histogram2dcontour": [
           {
            "colorbar": {
             "outlinewidth": 0,
             "ticks": ""
            },
            "colorscale": [
             [
              0,
              "#0d0887"
             ],
             [
              0.1111111111111111,
              "#46039f"
             ],
             [
              0.2222222222222222,
              "#7201a8"
             ],
             [
              0.3333333333333333,
              "#9c179e"
             ],
             [
              0.4444444444444444,
              "#bd3786"
             ],
             [
              0.5555555555555556,
              "#d8576b"
             ],
             [
              0.6666666666666666,
              "#ed7953"
             ],
             [
              0.7777777777777778,
              "#fb9f3a"
             ],
             [
              0.8888888888888888,
              "#fdca26"
             ],
             [
              1,
              "#f0f921"
             ]
            ],
            "type": "histogram2dcontour"
           }
          ],
          "mesh3d": [
           {
            "colorbar": {
             "outlinewidth": 0,
             "ticks": ""
            },
            "type": "mesh3d"
           }
          ],
          "parcoords": [
           {
            "line": {
             "colorbar": {
              "outlinewidth": 0,
              "ticks": ""
             }
            },
            "type": "parcoords"
           }
          ],
          "pie": [
           {
            "automargin": true,
            "type": "pie"
           }
          ],
          "scatter": [
           {
            "fillpattern": {
             "fillmode": "overlay",
             "size": 10,
             "solidity": 0.2
            },
            "type": "scatter"
           }
          ],
          "scatter3d": [
           {
            "line": {
             "colorbar": {
              "outlinewidth": 0,
              "ticks": ""
             }
            },
            "marker": {
             "colorbar": {
              "outlinewidth": 0,
              "ticks": ""
             }
            },
            "type": "scatter3d"
           }
          ],
          "scattercarpet": [
           {
            "marker": {
             "colorbar": {
              "outlinewidth": 0,
              "ticks": ""
             }
            },
            "type": "scattercarpet"
           }
          ],
          "scattergeo": [
           {
            "marker": {
             "colorbar": {
              "outlinewidth": 0,
              "ticks": ""
             }
            },
            "type": "scattergeo"
           }
          ],
          "scattergl": [
           {
            "marker": {
             "colorbar": {
              "outlinewidth": 0,
              "ticks": ""
             }
            },
            "type": "scattergl"
           }
          ],
          "scattermapbox": [
           {
            "marker": {
             "colorbar": {
              "outlinewidth": 0,
              "ticks": ""
             }
            },
            "type": "scattermapbox"
           }
          ],
          "scatterpolar": [
           {
            "marker": {
             "colorbar": {
              "outlinewidth": 0,
              "ticks": ""
             }
            },
            "type": "scatterpolar"
           }
          ],
          "scatterpolargl": [
           {
            "marker": {
             "colorbar": {
              "outlinewidth": 0,
              "ticks": ""
             }
            },
            "type": "scatterpolargl"
           }
          ],
          "scatterternary": [
           {
            "marker": {
             "colorbar": {
              "outlinewidth": 0,
              "ticks": ""
             }
            },
            "type": "scatterternary"
           }
          ],
          "surface": [
           {
            "colorbar": {
             "outlinewidth": 0,
             "ticks": ""
            },
            "colorscale": [
             [
              0,
              "#0d0887"
             ],
             [
              0.1111111111111111,
              "#46039f"
             ],
             [
              0.2222222222222222,
              "#7201a8"
             ],
             [
              0.3333333333333333,
              "#9c179e"
             ],
             [
              0.4444444444444444,
              "#bd3786"
             ],
             [
              0.5555555555555556,
              "#d8576b"
             ],
             [
              0.6666666666666666,
              "#ed7953"
             ],
             [
              0.7777777777777778,
              "#fb9f3a"
             ],
             [
              0.8888888888888888,
              "#fdca26"
             ],
             [
              1,
              "#f0f921"
             ]
            ],
            "type": "surface"
           }
          ],
          "table": [
           {
            "cells": {
             "fill": {
              "color": "#EBF0F8"
             },
             "line": {
              "color": "white"
             }
            },
            "header": {
             "fill": {
              "color": "#C8D4E3"
             },
             "line": {
              "color": "white"
             }
            },
            "type": "table"
           }
          ]
         },
         "layout": {
          "annotationdefaults": {
           "arrowcolor": "#2a3f5f",
           "arrowhead": 0,
           "arrowwidth": 1
          },
          "autotypenumbers": "strict",
          "coloraxis": {
           "colorbar": {
            "outlinewidth": 0,
            "ticks": ""
           }
          },
          "colorscale": {
           "diverging": [
            [
             0,
             "#8e0152"
            ],
            [
             0.1,
             "#c51b7d"
            ],
            [
             0.2,
             "#de77ae"
            ],
            [
             0.3,
             "#f1b6da"
            ],
            [
             0.4,
             "#fde0ef"
            ],
            [
             0.5,
             "#f7f7f7"
            ],
            [
             0.6,
             "#e6f5d0"
            ],
            [
             0.7,
             "#b8e186"
            ],
            [
             0.8,
             "#7fbc41"
            ],
            [
             0.9,
             "#4d9221"
            ],
            [
             1,
             "#276419"
            ]
           ],
           "sequential": [
            [
             0,
             "#0d0887"
            ],
            [
             0.1111111111111111,
             "#46039f"
            ],
            [
             0.2222222222222222,
             "#7201a8"
            ],
            [
             0.3333333333333333,
             "#9c179e"
            ],
            [
             0.4444444444444444,
             "#bd3786"
            ],
            [
             0.5555555555555556,
             "#d8576b"
            ],
            [
             0.6666666666666666,
             "#ed7953"
            ],
            [
             0.7777777777777778,
             "#fb9f3a"
            ],
            [
             0.8888888888888888,
             "#fdca26"
            ],
            [
             1,
             "#f0f921"
            ]
           ],
           "sequentialminus": [
            [
             0,
             "#0d0887"
            ],
            [
             0.1111111111111111,
             "#46039f"
            ],
            [
             0.2222222222222222,
             "#7201a8"
            ],
            [
             0.3333333333333333,
             "#9c179e"
            ],
            [
             0.4444444444444444,
             "#bd3786"
            ],
            [
             0.5555555555555556,
             "#d8576b"
            ],
            [
             0.6666666666666666,
             "#ed7953"
            ],
            [
             0.7777777777777778,
             "#fb9f3a"
            ],
            [
             0.8888888888888888,
             "#fdca26"
            ],
            [
             1,
             "#f0f921"
            ]
           ]
          },
          "colorway": [
           "#636efa",
           "#EF553B",
           "#00cc96",
           "#ab63fa",
           "#FFA15A",
           "#19d3f3",
           "#FF6692",
           "#B6E880",
           "#FF97FF",
           "#FECB52"
          ],
          "font": {
           "color": "#2a3f5f"
          },
          "geo": {
           "bgcolor": "white",
           "lakecolor": "white",
           "landcolor": "#E5ECF6",
           "showlakes": true,
           "showland": true,
           "subunitcolor": "white"
          },
          "hoverlabel": {
           "align": "left"
          },
          "hovermode": "closest",
          "mapbox": {
           "style": "light"
          },
          "paper_bgcolor": "white",
          "plot_bgcolor": "#E5ECF6",
          "polar": {
           "angularaxis": {
            "gridcolor": "white",
            "linecolor": "white",
            "ticks": ""
           },
           "bgcolor": "#E5ECF6",
           "radialaxis": {
            "gridcolor": "white",
            "linecolor": "white",
            "ticks": ""
           }
          },
          "scene": {
           "xaxis": {
            "backgroundcolor": "#E5ECF6",
            "gridcolor": "white",
            "gridwidth": 2,
            "linecolor": "white",
            "showbackground": true,
            "ticks": "",
            "zerolinecolor": "white"
           },
           "yaxis": {
            "backgroundcolor": "#E5ECF6",
            "gridcolor": "white",
            "gridwidth": 2,
            "linecolor": "white",
            "showbackground": true,
            "ticks": "",
            "zerolinecolor": "white"
           },
           "zaxis": {
            "backgroundcolor": "#E5ECF6",
            "gridcolor": "white",
            "gridwidth": 2,
            "linecolor": "white",
            "showbackground": true,
            "ticks": "",
            "zerolinecolor": "white"
           }
          },
          "shapedefaults": {
           "line": {
            "color": "#2a3f5f"
           }
          },
          "ternary": {
           "aaxis": {
            "gridcolor": "white",
            "linecolor": "white",
            "ticks": ""
           },
           "baxis": {
            "gridcolor": "white",
            "linecolor": "white",
            "ticks": ""
           },
           "bgcolor": "#E5ECF6",
           "caxis": {
            "gridcolor": "white",
            "linecolor": "white",
            "ticks": ""
           }
          },
          "title": {
           "x": 0.05
          },
          "xaxis": {
           "automargin": true,
           "gridcolor": "white",
           "linecolor": "white",
           "ticks": "",
           "title": {
            "standoff": 15
           },
           "zerolinecolor": "white",
           "zerolinewidth": 2
          },
          "yaxis": {
           "automargin": true,
           "gridcolor": "white",
           "linecolor": "white",
           "ticks": "",
           "title": {
            "standoff": 15
           },
           "zerolinecolor": "white",
           "zerolinewidth": 2
          }
         }
        },
        "title": {
         "text": "Задержка 12 мс"
        },
        "xaxis": {
         "title": {
          "text": "Время, с"
         }
        },
        "yaxis": {
         "title": {
          "text": "Килобайт или килобайт/с"
         }
        }
       }
      }
     },
     "metadata": {},
     "output_type": "display_data"
    }
   ],
   "source": [
    "latency = 12\n",
    "df = get_df(1037, latency)\n",
    "df[\"request_complete\"]  -= df[\"request_start\"][0]\n",
    "df[\"response_start\"]    -= df[\"request_start\"][0]\n",
    "df[\"response_complete\"] -= df[\"request_start\"][0]\n",
    "df[\"request_start\"]     -= df[\"request_start\"][0]\n",
    "df[\"range_start\"] /= 1024 / 8\n",
    "df[\"range_end\"] /= 1024 / 8\n",
    "df[\"clen\"] /= 1024 / 8\n",
    "df[\"buffer\"] /= 1024 / 8\n",
    "\n",
    "W = 6 # window width\n",
    "rates = []\n",
    "times = []\n",
    "N = len(df)\n",
    "for i in range(N - W + 1):\n",
    "    recieved = 0\n",
    "    for k in range(W):\n",
    "        id = i + k\n",
    "        recieved += df[\"range_end\"][id] - df[\"range_start\"][id]\n",
    "    timeLeft = df[\"response_complete\"][i + W - 1] - df[\"request_start\"][i]\n",
    "    \n",
    "    rates.append(recieved / timeLeft)\n",
    "    times.append(df[\"request_start\"][i + W // 2 - 1])\n",
    "    \n",
    "rates = rates[2:]\n",
    "times = times[2:]\n",
    "\n",
    "\n",
    "\n",
    "\n",
    "fig = go.Figure()\n",
    "fig.add_trace(go.Scatter(x = df[\"request_start\"], y = df[\"buffer\"], name = \"Буфер\", mode = \"lines+markers\"))\n",
    "\n",
    "netRate = (df[\"range_end\"] - df[\"range_start\"]) / (df[\"response_complete\"] - df[\"request_start\"])\n",
    "streamBitRate = df[\"clen\"] / df[\"duration\"]\n",
    "fig.add_trace(go.Scatter(x = times, y = rates, mode = \"lines+markers\", name=f\"Средняя пропускная способность в окне {W}\"))\n",
    "# fig.add_trace(go.Scatter(x = df[\"request_start\"], y = netRate, name = \"Пропускная способность сети\", mode = \"lines+markers\"))\n",
    "fig.add_trace(go.Scatter(x = df[\"request_start\"], y = streamBitRate, name = \"Битрейт видео кБ/с\", mode = \"lines+markers\"))\n",
    "fig.add_trace(go.Scatter(x = [0, 880], y = [1037] * 2, name = \"Ограничение битрейта\", mode = \"lines+markers\"))\n",
    "\n",
    "fig.update_layout(xaxis_title=\"Время, с\", yaxis_title=\"Килобайт или килобайт/с\", title=f\"Задержка {latency} мс\")\n",
    "fig.write_image(f\"images/time{latency}.png\")\n",
    "fig.show()\n"
   ]
  },
  {
   "cell_type": "code",
   "execution_count": 52,
   "metadata": {},
   "outputs": [
    {
     "data": {
      "text/html": [
       "<div>\n",
       "<style scoped>\n",
       "    .dataframe tbody tr th:only-of-type {\n",
       "        vertical-align: middle;\n",
       "    }\n",
       "\n",
       "    .dataframe tbody tr th {\n",
       "        vertical-align: top;\n",
       "    }\n",
       "\n",
       "    .dataframe thead th {\n",
       "        text-align: right;\n",
       "    }\n",
       "</style>\n",
       "<table border=\"1\" class=\"dataframe\">\n",
       "  <thead>\n",
       "    <tr style=\"text-align: right;\">\n",
       "      <th></th>\n",
       "      <th>aitag</th>\n",
       "      <th>range_start</th>\n",
       "      <th>range_end</th>\n",
       "      <th>itag</th>\n",
       "      <th>mime</th>\n",
       "      <th>duration</th>\n",
       "      <th>buffer</th>\n",
       "      <th>clen</th>\n",
       "      <th>request_start</th>\n",
       "      <th>request_complete</th>\n",
       "      <th>response_start</th>\n",
       "      <th>response_complete</th>\n",
       "    </tr>\n",
       "  </thead>\n",
       "  <tbody>\n",
       "    <tr>\n",
       "      <th>0</th>\n",
       "      <td>480 px</td>\n",
       "      <td>0.000000</td>\n",
       "      <td>1542.859375</td>\n",
       "      <td>video/mp4</td>\n",
       "      <td>397.0</td>\n",
       "      <td>3342.138</td>\n",
       "      <td>0.000000</td>\n",
       "      <td>1.460669e+06</td>\n",
       "      <td>0.000000</td>\n",
       "      <td>0.000718</td>\n",
       "      <td>0.012607</td>\n",
       "      <td>0.092910</td>\n",
       "    </tr>\n",
       "    <tr>\n",
       "      <th>1</th>\n",
       "      <td>720 px</td>\n",
       "      <td>0.000000</td>\n",
       "      <td>64.398438</td>\n",
       "      <td>video/mp4</td>\n",
       "      <td>398.0</td>\n",
       "      <td>3342.138</td>\n",
       "      <td>0.000000</td>\n",
       "      <td>3.023405e+06</td>\n",
       "      <td>0.058825</td>\n",
       "      <td>0.059753</td>\n",
       "      <td>0.093177</td>\n",
       "      <td>0.095795</td>\n",
       "    </tr>\n",
       "    <tr>\n",
       "      <th>2</th>\n",
       "      <td>480 px</td>\n",
       "      <td>1542.867188</td>\n",
       "      <td>1667.023438</td>\n",
       "      <td>video/mp4</td>\n",
       "      <td>397.0</td>\n",
       "      <td>3342.138</td>\n",
       "      <td>77.914062</td>\n",
       "      <td>1.460669e+06</td>\n",
       "      <td>0.139710</td>\n",
       "      <td>0.140356</td>\n",
       "      <td>0.169979</td>\n",
       "      <td>0.172303</td>\n",
       "    </tr>\n",
       "    <tr>\n",
       "      <th>3</th>\n",
       "      <td>720 px</td>\n",
       "      <td>4397.109375</td>\n",
       "      <td>20189.726562</td>\n",
       "      <td>video/mp4</td>\n",
       "      <td>398.0</td>\n",
       "      <td>3342.138</td>\n",
       "      <td>83.414062</td>\n",
       "      <td>3.023405e+06</td>\n",
       "      <td>0.181582</td>\n",
       "      <td>0.182082</td>\n",
       "      <td>0.209524</td>\n",
       "      <td>0.746566</td>\n",
       "    </tr>\n",
       "    <tr>\n",
       "      <th>4</th>\n",
       "      <td>720 px</td>\n",
       "      <td>20189.734375</td>\n",
       "      <td>27172.828125</td>\n",
       "      <td>video/mp4</td>\n",
       "      <td>398.0</td>\n",
       "      <td>3342.138</td>\n",
       "      <td>159.179688</td>\n",
       "      <td>3.023405e+06</td>\n",
       "      <td>10.964187</td>\n",
       "      <td>10.966025</td>\n",
       "      <td>11.075515</td>\n",
       "      <td>11.280845</td>\n",
       "    </tr>\n",
       "    <tr>\n",
       "      <th>...</th>\n",
       "      <td>...</td>\n",
       "      <td>...</td>\n",
       "      <td>...</td>\n",
       "      <td>...</td>\n",
       "      <td>...</td>\n",
       "      <td>...</td>\n",
       "      <td>...</td>\n",
       "      <td>...</td>\n",
       "      <td>...</td>\n",
       "      <td>...</td>\n",
       "      <td>...</td>\n",
       "      <td>...</td>\n",
       "    </tr>\n",
       "    <tr>\n",
       "      <th>63</th>\n",
       "      <td>480 px</td>\n",
       "      <td>396258.460938</td>\n",
       "      <td>411909.437500</td>\n",
       "      <td>video/mp4</td>\n",
       "      <td>397.0</td>\n",
       "      <td>3342.138</td>\n",
       "      <td>930.773438</td>\n",
       "      <td>1.460669e+06</td>\n",
       "      <td>782.413472</td>\n",
       "      <td>782.414703</td>\n",
       "      <td>782.486006</td>\n",
       "      <td>783.002324</td>\n",
       "    </tr>\n",
       "    <tr>\n",
       "      <th>64</th>\n",
       "      <td>480 px</td>\n",
       "      <td>411909.445312</td>\n",
       "      <td>427798.117188</td>\n",
       "      <td>video/mp4</td>\n",
       "      <td>397.0</td>\n",
       "      <td>3342.138</td>\n",
       "      <td>931.882812</td>\n",
       "      <td>1.460669e+06</td>\n",
       "      <td>814.293137</td>\n",
       "      <td>814.294111</td>\n",
       "      <td>814.321776</td>\n",
       "      <td>814.874453</td>\n",
       "    </tr>\n",
       "    <tr>\n",
       "      <th>65</th>\n",
       "      <td>480 px</td>\n",
       "      <td>427798.125000</td>\n",
       "      <td>442814.648438</td>\n",
       "      <td>video/mp4</td>\n",
       "      <td>397.0</td>\n",
       "      <td>3342.138</td>\n",
       "      <td>933.109375</td>\n",
       "      <td>1.460669e+06</td>\n",
       "      <td>846.133383</td>\n",
       "      <td>846.134643</td>\n",
       "      <td>846.176719</td>\n",
       "      <td>846.697549</td>\n",
       "    </tr>\n",
       "    <tr>\n",
       "      <th>66</th>\n",
       "      <td>480 px</td>\n",
       "      <td>442814.656250</td>\n",
       "      <td>456128.445312</td>\n",
       "      <td>video/mp4</td>\n",
       "      <td>397.0</td>\n",
       "      <td>3342.138</td>\n",
       "      <td>934.539062</td>\n",
       "      <td>1.460669e+06</td>\n",
       "      <td>883.354352</td>\n",
       "      <td>883.355026</td>\n",
       "      <td>883.368325</td>\n",
       "      <td>883.806559</td>\n",
       "    </tr>\n",
       "    <tr>\n",
       "      <th>67</th>\n",
       "      <td>480 px</td>\n",
       "      <td>456128.453125</td>\n",
       "      <td>470574.609375</td>\n",
       "      <td>video/mp4</td>\n",
       "      <td>397.0</td>\n",
       "      <td>3342.138</td>\n",
       "      <td>935.359375</td>\n",
       "      <td>1.460669e+06</td>\n",
       "      <td>904.614179</td>\n",
       "      <td>904.615198</td>\n",
       "      <td>904.647175</td>\n",
       "      <td>883.806559</td>\n",
       "    </tr>\n",
       "  </tbody>\n",
       "</table>\n",
       "<p>68 rows × 12 columns</p>\n",
       "</div>"
      ],
      "text/plain": [
       "     aitag    range_start      range_end       itag   mime  duration  \\\n",
       "0   480 px       0.000000    1542.859375  video/mp4  397.0  3342.138   \n",
       "1   720 px       0.000000      64.398438  video/mp4  398.0  3342.138   \n",
       "2   480 px    1542.867188    1667.023438  video/mp4  397.0  3342.138   \n",
       "3   720 px    4397.109375   20189.726562  video/mp4  398.0  3342.138   \n",
       "4   720 px   20189.734375   27172.828125  video/mp4  398.0  3342.138   \n",
       "..     ...            ...            ...        ...    ...       ...   \n",
       "63  480 px  396258.460938  411909.437500  video/mp4  397.0  3342.138   \n",
       "64  480 px  411909.445312  427798.117188  video/mp4  397.0  3342.138   \n",
       "65  480 px  427798.125000  442814.648438  video/mp4  397.0  3342.138   \n",
       "66  480 px  442814.656250  456128.445312  video/mp4  397.0  3342.138   \n",
       "67  480 px  456128.453125  470574.609375  video/mp4  397.0  3342.138   \n",
       "\n",
       "        buffer          clen  request_start  request_complete  response_start  \\\n",
       "0     0.000000  1.460669e+06       0.000000          0.000718        0.012607   \n",
       "1     0.000000  3.023405e+06       0.058825          0.059753        0.093177   \n",
       "2    77.914062  1.460669e+06       0.139710          0.140356        0.169979   \n",
       "3    83.414062  3.023405e+06       0.181582          0.182082        0.209524   \n",
       "4   159.179688  3.023405e+06      10.964187         10.966025       11.075515   \n",
       "..         ...           ...            ...               ...             ...   \n",
       "63  930.773438  1.460669e+06     782.413472        782.414703      782.486006   \n",
       "64  931.882812  1.460669e+06     814.293137        814.294111      814.321776   \n",
       "65  933.109375  1.460669e+06     846.133383        846.134643      846.176719   \n",
       "66  934.539062  1.460669e+06     883.354352        883.355026      883.368325   \n",
       "67  935.359375  1.460669e+06     904.614179        904.615198      904.647175   \n",
       "\n",
       "    response_complete  \n",
       "0            0.092910  \n",
       "1            0.095795  \n",
       "2            0.172303  \n",
       "3            0.746566  \n",
       "4           11.280845  \n",
       "..                ...  \n",
       "63         783.002324  \n",
       "64         814.874453  \n",
       "65         846.697549  \n",
       "66         883.806559  \n",
       "67         883.806559  \n",
       "\n",
       "[68 rows x 12 columns]"
      ]
     },
     "execution_count": 52,
     "metadata": {},
     "output_type": "execute_result"
    }
   ],
   "source": [
    "df"
   ]
  },
  {
   "attachments": {},
   "cell_type": "markdown",
   "metadata": {},
   "source": [
    "Пропускная способность в окне в 6 сегментов"
   ]
  },
  {
   "cell_type": "code",
   "execution_count": 45,
   "metadata": {},
   "outputs": [
    {
     "data": {
      "application/vnd.plotly.v1+json": {
       "config": {
        "plotlyServerURL": "https://plot.ly"
       },
       "data": [
        {
         "mode": "lines+markers",
         "type": "scatter",
         "x": [
          0.1397104263305664,
          0.18158173561096191,
          10.964187383651733,
          12.026311159133911,
          18.10679054260254,
          24.28611660003662,
          29.621160984039307,
          33.530452251434326,
          38.87320303916931,
          43.024720907211304,
          46.840089082717896,
          62.57006359100342,
          66.26619219779968,
          70.39880156517029,
          78.10753417015076,
          82.16186761856079,
          87.05536460876465,
          92.77682375907898,
          98.5695424079895,
          103.41010594367981,
          111.251868724823,
          116.76972007751465,
          121.85238432884216,
          127.32261204719543,
          135.22639083862305,
          140.031920671463,
          144.85158324241638,
          153.3486955165863,
          159.08064532279968,
          164.67810797691345,
          169.28208947181702,
          176.1814410686493,
          180.9734537601471,
          185.9896595478058,
          190.52609848976135,
          197.5152232646942,
          202.74775004386902,
          208.83858013153076,
          215.43320441246033,
          222.91674709320068,
          231.9236900806427,
          238.18251609802246,
          246.4903061389923,
          256.4175193309784,
          274.01008319854736,
          296.70023131370544,
          316.66230034828186,
          338.0060317516327,
          358.4271731376648,
          377.5501232147217,
          396.67222332954407,
          429.61742997169495,
          461.49161171913147,
          503.98970580101013,
          531.6161916255951,
          563.5009527206421,
          611.3234877586365,
          659.1602325439453,
          691.0383968353271,
          717.6012966632843,
          750.095794916153,
          782.413471698761,
          814.2931365966797
         ],
         "y": [
          2040.2966379911118,
          1540.6480810611704,
          1335.4142047069818,
          1227.404599369939,
          1079.023737758313,
          795.7447115755075,
          957.8773668860333,
          1275.456964920491,
          891.3345607918594,
          902.9090156459373,
          934.7432064555229,
          837.1862855729582,
          890.1357565877938,
          1027.5335352436946,
          1036.9877902592525,
          998.0862226853409,
          1160.0596232298628,
          1062.5339662832505,
          1040.9596181267143,
          1048.0960139810466,
          1046.7816611097408,
          954.4152385729137,
          1037.4316213264644,
          1073.40763625769,
          987.6648651539113,
          992.1074364150068,
          1055.737490748877,
          1040.142270012172,
          977.7979965180567,
          1077.743291999576,
          1072.4667943343259,
          1113.57586235003,
          1030.603606320442,
          1118.812750363601,
          1117.3270972923212,
          1087.9407197397695,
          1088.7227260040252,
          1043.746758324602,
          1022.9206961674867,
          1054.6522360252172,
          1131.514147848737,
          1112.5357084548018,
          1001.3405171396878,
          958.3557899071326,
          932.3161192815277,
          895.5714242922971,
          901.136079240398,
          916.8282546425156,
          817.9946961548704,
          741.5506275841428,
          614.0059489774724,
          594.1961077148371,
          543.3452096524443,
          501.9683543566476,
          458.5804187444775,
          487.26639887399466,
          498.9174463909761,
          492.06629156575497,
          542.256295524632,
          597.535491505059,
          597.9337929901934,
          546.3866949029292,
          665.7152679156823
         ]
        }
       ],
       "layout": {
        "template": {
         "data": {
          "bar": [
           {
            "error_x": {
             "color": "#2a3f5f"
            },
            "error_y": {
             "color": "#2a3f5f"
            },
            "marker": {
             "line": {
              "color": "#E5ECF6",
              "width": 0.5
             },
             "pattern": {
              "fillmode": "overlay",
              "size": 10,
              "solidity": 0.2
             }
            },
            "type": "bar"
           }
          ],
          "barpolar": [
           {
            "marker": {
             "line": {
              "color": "#E5ECF6",
              "width": 0.5
             },
             "pattern": {
              "fillmode": "overlay",
              "size": 10,
              "solidity": 0.2
             }
            },
            "type": "barpolar"
           }
          ],
          "carpet": [
           {
            "aaxis": {
             "endlinecolor": "#2a3f5f",
             "gridcolor": "white",
             "linecolor": "white",
             "minorgridcolor": "white",
             "startlinecolor": "#2a3f5f"
            },
            "baxis": {
             "endlinecolor": "#2a3f5f",
             "gridcolor": "white",
             "linecolor": "white",
             "minorgridcolor": "white",
             "startlinecolor": "#2a3f5f"
            },
            "type": "carpet"
           }
          ],
          "choropleth": [
           {
            "colorbar": {
             "outlinewidth": 0,
             "ticks": ""
            },
            "type": "choropleth"
           }
          ],
          "contour": [
           {
            "colorbar": {
             "outlinewidth": 0,
             "ticks": ""
            },
            "colorscale": [
             [
              0,
              "#0d0887"
             ],
             [
              0.1111111111111111,
              "#46039f"
             ],
             [
              0.2222222222222222,
              "#7201a8"
             ],
             [
              0.3333333333333333,
              "#9c179e"
             ],
             [
              0.4444444444444444,
              "#bd3786"
             ],
             [
              0.5555555555555556,
              "#d8576b"
             ],
             [
              0.6666666666666666,
              "#ed7953"
             ],
             [
              0.7777777777777778,
              "#fb9f3a"
             ],
             [
              0.8888888888888888,
              "#fdca26"
             ],
             [
              1,
              "#f0f921"
             ]
            ],
            "type": "contour"
           }
          ],
          "contourcarpet": [
           {
            "colorbar": {
             "outlinewidth": 0,
             "ticks": ""
            },
            "type": "contourcarpet"
           }
          ],
          "heatmap": [
           {
            "colorbar": {
             "outlinewidth": 0,
             "ticks": ""
            },
            "colorscale": [
             [
              0,
              "#0d0887"
             ],
             [
              0.1111111111111111,
              "#46039f"
             ],
             [
              0.2222222222222222,
              "#7201a8"
             ],
             [
              0.3333333333333333,
              "#9c179e"
             ],
             [
              0.4444444444444444,
              "#bd3786"
             ],
             [
              0.5555555555555556,
              "#d8576b"
             ],
             [
              0.6666666666666666,
              "#ed7953"
             ],
             [
              0.7777777777777778,
              "#fb9f3a"
             ],
             [
              0.8888888888888888,
              "#fdca26"
             ],
             [
              1,
              "#f0f921"
             ]
            ],
            "type": "heatmap"
           }
          ],
          "heatmapgl": [
           {
            "colorbar": {
             "outlinewidth": 0,
             "ticks": ""
            },
            "colorscale": [
             [
              0,
              "#0d0887"
             ],
             [
              0.1111111111111111,
              "#46039f"
             ],
             [
              0.2222222222222222,
              "#7201a8"
             ],
             [
              0.3333333333333333,
              "#9c179e"
             ],
             [
              0.4444444444444444,
              "#bd3786"
             ],
             [
              0.5555555555555556,
              "#d8576b"
             ],
             [
              0.6666666666666666,
              "#ed7953"
             ],
             [
              0.7777777777777778,
              "#fb9f3a"
             ],
             [
              0.8888888888888888,
              "#fdca26"
             ],
             [
              1,
              "#f0f921"
             ]
            ],
            "type": "heatmapgl"
           }
          ],
          "histogram": [
           {
            "marker": {
             "pattern": {
              "fillmode": "overlay",
              "size": 10,
              "solidity": 0.2
             }
            },
            "type": "histogram"
           }
          ],
          "histogram2d": [
           {
            "colorbar": {
             "outlinewidth": 0,
             "ticks": ""
            },
            "colorscale": [
             [
              0,
              "#0d0887"
             ],
             [
              0.1111111111111111,
              "#46039f"
             ],
             [
              0.2222222222222222,
              "#7201a8"
             ],
             [
              0.3333333333333333,
              "#9c179e"
             ],
             [
              0.4444444444444444,
              "#bd3786"
             ],
             [
              0.5555555555555556,
              "#d8576b"
             ],
             [
              0.6666666666666666,
              "#ed7953"
             ],
             [
              0.7777777777777778,
              "#fb9f3a"
             ],
             [
              0.8888888888888888,
              "#fdca26"
             ],
             [
              1,
              "#f0f921"
             ]
            ],
            "type": "histogram2d"
           }
          ],
          "histogram2dcontour": [
           {
            "colorbar": {
             "outlinewidth": 0,
             "ticks": ""
            },
            "colorscale": [
             [
              0,
              "#0d0887"
             ],
             [
              0.1111111111111111,
              "#46039f"
             ],
             [
              0.2222222222222222,
              "#7201a8"
             ],
             [
              0.3333333333333333,
              "#9c179e"
             ],
             [
              0.4444444444444444,
              "#bd3786"
             ],
             [
              0.5555555555555556,
              "#d8576b"
             ],
             [
              0.6666666666666666,
              "#ed7953"
             ],
             [
              0.7777777777777778,
              "#fb9f3a"
             ],
             [
              0.8888888888888888,
              "#fdca26"
             ],
             [
              1,
              "#f0f921"
             ]
            ],
            "type": "histogram2dcontour"
           }
          ],
          "mesh3d": [
           {
            "colorbar": {
             "outlinewidth": 0,
             "ticks": ""
            },
            "type": "mesh3d"
           }
          ],
          "parcoords": [
           {
            "line": {
             "colorbar": {
              "outlinewidth": 0,
              "ticks": ""
             }
            },
            "type": "parcoords"
           }
          ],
          "pie": [
           {
            "automargin": true,
            "type": "pie"
           }
          ],
          "scatter": [
           {
            "fillpattern": {
             "fillmode": "overlay",
             "size": 10,
             "solidity": 0.2
            },
            "type": "scatter"
           }
          ],
          "scatter3d": [
           {
            "line": {
             "colorbar": {
              "outlinewidth": 0,
              "ticks": ""
             }
            },
            "marker": {
             "colorbar": {
              "outlinewidth": 0,
              "ticks": ""
             }
            },
            "type": "scatter3d"
           }
          ],
          "scattercarpet": [
           {
            "marker": {
             "colorbar": {
              "outlinewidth": 0,
              "ticks": ""
             }
            },
            "type": "scattercarpet"
           }
          ],
          "scattergeo": [
           {
            "marker": {
             "colorbar": {
              "outlinewidth": 0,
              "ticks": ""
             }
            },
            "type": "scattergeo"
           }
          ],
          "scattergl": [
           {
            "marker": {
             "colorbar": {
              "outlinewidth": 0,
              "ticks": ""
             }
            },
            "type": "scattergl"
           }
          ],
          "scattermapbox": [
           {
            "marker": {
             "colorbar": {
              "outlinewidth": 0,
              "ticks": ""
             }
            },
            "type": "scattermapbox"
           }
          ],
          "scatterpolar": [
           {
            "marker": {
             "colorbar": {
              "outlinewidth": 0,
              "ticks": ""
             }
            },
            "type": "scatterpolar"
           }
          ],
          "scatterpolargl": [
           {
            "marker": {
             "colorbar": {
              "outlinewidth": 0,
              "ticks": ""
             }
            },
            "type": "scatterpolargl"
           }
          ],
          "scatterternary": [
           {
            "marker": {
             "colorbar": {
              "outlinewidth": 0,
              "ticks": ""
             }
            },
            "type": "scatterternary"
           }
          ],
          "surface": [
           {
            "colorbar": {
             "outlinewidth": 0,
             "ticks": ""
            },
            "colorscale": [
             [
              0,
              "#0d0887"
             ],
             [
              0.1111111111111111,
              "#46039f"
             ],
             [
              0.2222222222222222,
              "#7201a8"
             ],
             [
              0.3333333333333333,
              "#9c179e"
             ],
             [
              0.4444444444444444,
              "#bd3786"
             ],
             [
              0.5555555555555556,
              "#d8576b"
             ],
             [
              0.6666666666666666,
              "#ed7953"
             ],
             [
              0.7777777777777778,
              "#fb9f3a"
             ],
             [
              0.8888888888888888,
              "#fdca26"
             ],
             [
              1,
              "#f0f921"
             ]
            ],
            "type": "surface"
           }
          ],
          "table": [
           {
            "cells": {
             "fill": {
              "color": "#EBF0F8"
             },
             "line": {
              "color": "white"
             }
            },
            "header": {
             "fill": {
              "color": "#C8D4E3"
             },
             "line": {
              "color": "white"
             }
            },
            "type": "table"
           }
          ]
         },
         "layout": {
          "annotationdefaults": {
           "arrowcolor": "#2a3f5f",
           "arrowhead": 0,
           "arrowwidth": 1
          },
          "autotypenumbers": "strict",
          "coloraxis": {
           "colorbar": {
            "outlinewidth": 0,
            "ticks": ""
           }
          },
          "colorscale": {
           "diverging": [
            [
             0,
             "#8e0152"
            ],
            [
             0.1,
             "#c51b7d"
            ],
            [
             0.2,
             "#de77ae"
            ],
            [
             0.3,
             "#f1b6da"
            ],
            [
             0.4,
             "#fde0ef"
            ],
            [
             0.5,
             "#f7f7f7"
            ],
            [
             0.6,
             "#e6f5d0"
            ],
            [
             0.7,
             "#b8e186"
            ],
            [
             0.8,
             "#7fbc41"
            ],
            [
             0.9,
             "#4d9221"
            ],
            [
             1,
             "#276419"
            ]
           ],
           "sequential": [
            [
             0,
             "#0d0887"
            ],
            [
             0.1111111111111111,
             "#46039f"
            ],
            [
             0.2222222222222222,
             "#7201a8"
            ],
            [
             0.3333333333333333,
             "#9c179e"
            ],
            [
             0.4444444444444444,
             "#bd3786"
            ],
            [
             0.5555555555555556,
             "#d8576b"
            ],
            [
             0.6666666666666666,
             "#ed7953"
            ],
            [
             0.7777777777777778,
             "#fb9f3a"
            ],
            [
             0.8888888888888888,
             "#fdca26"
            ],
            [
             1,
             "#f0f921"
            ]
           ],
           "sequentialminus": [
            [
             0,
             "#0d0887"
            ],
            [
             0.1111111111111111,
             "#46039f"
            ],
            [
             0.2222222222222222,
             "#7201a8"
            ],
            [
             0.3333333333333333,
             "#9c179e"
            ],
            [
             0.4444444444444444,
             "#bd3786"
            ],
            [
             0.5555555555555556,
             "#d8576b"
            ],
            [
             0.6666666666666666,
             "#ed7953"
            ],
            [
             0.7777777777777778,
             "#fb9f3a"
            ],
            [
             0.8888888888888888,
             "#fdca26"
            ],
            [
             1,
             "#f0f921"
            ]
           ]
          },
          "colorway": [
           "#636efa",
           "#EF553B",
           "#00cc96",
           "#ab63fa",
           "#FFA15A",
           "#19d3f3",
           "#FF6692",
           "#B6E880",
           "#FF97FF",
           "#FECB52"
          ],
          "font": {
           "color": "#2a3f5f"
          },
          "geo": {
           "bgcolor": "white",
           "lakecolor": "white",
           "landcolor": "#E5ECF6",
           "showlakes": true,
           "showland": true,
           "subunitcolor": "white"
          },
          "hoverlabel": {
           "align": "left"
          },
          "hovermode": "closest",
          "mapbox": {
           "style": "light"
          },
          "paper_bgcolor": "white",
          "plot_bgcolor": "#E5ECF6",
          "polar": {
           "angularaxis": {
            "gridcolor": "white",
            "linecolor": "white",
            "ticks": ""
           },
           "bgcolor": "#E5ECF6",
           "radialaxis": {
            "gridcolor": "white",
            "linecolor": "white",
            "ticks": ""
           }
          },
          "scene": {
           "xaxis": {
            "backgroundcolor": "#E5ECF6",
            "gridcolor": "white",
            "gridwidth": 2,
            "linecolor": "white",
            "showbackground": true,
            "ticks": "",
            "zerolinecolor": "white"
           },
           "yaxis": {
            "backgroundcolor": "#E5ECF6",
            "gridcolor": "white",
            "gridwidth": 2,
            "linecolor": "white",
            "showbackground": true,
            "ticks": "",
            "zerolinecolor": "white"
           },
           "zaxis": {
            "backgroundcolor": "#E5ECF6",
            "gridcolor": "white",
            "gridwidth": 2,
            "linecolor": "white",
            "showbackground": true,
            "ticks": "",
            "zerolinecolor": "white"
           }
          },
          "shapedefaults": {
           "line": {
            "color": "#2a3f5f"
           }
          },
          "ternary": {
           "aaxis": {
            "gridcolor": "white",
            "linecolor": "white",
            "ticks": ""
           },
           "baxis": {
            "gridcolor": "white",
            "linecolor": "white",
            "ticks": ""
           },
           "bgcolor": "#E5ECF6",
           "caxis": {
            "gridcolor": "white",
            "linecolor": "white",
            "ticks": ""
           }
          },
          "title": {
           "x": 0.05
          },
          "xaxis": {
           "automargin": true,
           "gridcolor": "white",
           "linecolor": "white",
           "ticks": "",
           "title": {
            "standoff": 15
           },
           "zerolinecolor": "white",
           "zerolinewidth": 2
          },
          "yaxis": {
           "automargin": true,
           "gridcolor": "white",
           "linecolor": "white",
           "ticks": "",
           "title": {
            "standoff": 15
           },
           "zerolinecolor": "white",
           "zerolinewidth": 2
          }
         }
        },
        "title": {
         "text": "усредненная пропускная способность, окно в 6 сегментов"
        },
        "xaxis": {
         "title": {
          "text": "Время, с"
         }
        },
        "yaxis": {
         "title": {
          "text": "килобайт/с"
         }
        }
       }
      }
     },
     "metadata": {},
     "output_type": "display_data"
    }
   ],
   "source": [
    "W = 6 # window width\n",
    "rates = []\n",
    "times = []\n",
    "N = len(df)\n",
    "for i in range(N - W + 1):\n",
    "    recieved = 0\n",
    "    for k in range(W):\n",
    "        id = i + k\n",
    "        recieved += df[\"range_end\"][id] - df[\"range_start\"][id]\n",
    "    timeLeft = df[\"response_complete\"][i + W - 1] - df[\"request_start\"][i]\n",
    "    \n",
    "    rates.append(recieved / timeLeft)\n",
    "    times.append(df[\"request_start\"][i + W // 2 - 1])\n",
    "    \n",
    "    fig = go.Figure()\n",
    "fig.add_trace(go.Scatter(x = times, y = rates, mode = \"lines+markers\"))\n",
    "\n",
    "fig.update_layout(xaxis_title=\"Время, с\", yaxis_title=\"килобайт/с\", title=f\"усредненная пропускная способность, окно в 6 сегментов\")\n",
    "fig.write_image(f\"images/rate.png\")\n",
    "fig.show()\n"
   ]
  },
  {
   "cell_type": "code",
   "execution_count": 37,
   "metadata": {},
   "outputs": [
    {
     "name": "stdout",
     "output_type": "stream",
     "text": [
      "Network limit: 152576.0\n",
      "Loading driver...\n"
     ]
    },
    {
     "name": "stderr",
     "output_type": "stream",
     "text": [
      "rm: cannot remove 'data/processed_1192kbps_500ms.txt': No such file or directory\n"
     ]
    },
    {
     "name": "stdout",
     "output_type": "stream",
     "text": [
      "Starting mitmdump...\n",
      "[16:13:44.492] Only processing flows that match \"~t video/webm | ~t video/mp4\"\n",
      "[16:13:44.496] HTTP(S) proxy listening at *:8080.\n",
      "Getting url...\n",
      "[16:13:45.183][[::1]:49250] client connect\n",
      "[16:13:50.382][[::1]:49250] server connect www.youtube.com:443 (209.85.233.198:443)\n",
      "[16:13:51.115][[::1]:52754] client connect\n",
      "[16:13:51.240][[::1]:52754] server connect fonts.googleapis.com:443 (142.250.74.170:443)\n",
      "[16:13:51.412][[::1]:52760] client connect\n",
      "[16:13:51.414][[::1]:52768] client connect\n",
      "[16:13:51.415][[::1]:52770] client connect\n",
      "[16:13:51.417][[::1]:52772] client connect\n",
      "[16:13:51.429][[::1]:52778] client connect\n",
      "[16:13:51.514][[::1]:52768] server connect rr4---sn-4pvgq-n8v6.googlevideo.com:443 (80.77.175.47:443)\n",
      "[16:13:51.515][[::1]:52770] server connect rr4---sn-4pvgq-n8v6.googlevideo.com:443 (80.77.175.47:443)\n",
      "[16:13:51.539][[::1]:52772] server connect i.ytimg.com:443 (64.233.164.119:443)\n",
      "[16:13:51.539][[::1]:52760] server connect i.ytimg.com:443 (64.233.164.119:443)\n",
      "[16:13:51.540][[::1]:52778] server connect fonts.gstatic.com:443 (142.250.74.67:443)\n",
      "[16:13:51.575][[::1]:52760] Client TLS handshake failed. The client disconnected during the handshake. If this happens consistently for i.ytimg.com, this may indicate that the client does not trust the proxy's certificate.\n",
      "[16:13:51.579][[::1]:52760] client disconnect\n",
      "[16:13:51.583][[::1]:52760] server disconnect i.ytimg.com:443 (64.233.164.119:443)\n",
      "[16:13:52.673][[::1]:52780] client connect\n",
      "[16:13:52.673][[::1]:52782] client connect\n",
      "[16:13:52.716][[::1]:52780] server connect rr2---sn-4pvgq-n8vs.googlevideo.com:443 (80.77.172.13:443)\n",
      "[16:13:52.717][[::1]:52782] server connect rr2---sn-4pvgq-n8vs.googlevideo.com:443 (80.77.172.13:443)\n",
      "[16:13:52.738][[::1]:52786] client connect\n",
      "[16:13:52.748][[::1]:52788] client connect\n",
      "[16:13:52.751][[::1]:52794] client connect\n",
      "[16:13:52.785][[::1]:52796] client connect\n",
      "[16:13:52.794][[::1]:52786] server connect accounts.google.com:443 (142.250.150.84:443)\n",
      "[16:13:52.799][[::1]:52788] server connect jnn-pa.googleapis.com:443 (172.217.21.170:443)\n",
      "[16:13:52.835][[::1]:52794] server connect static.doubleclick.net:443 (173.194.220.148:443)\n",
      "[16:13:52.843][[::1]:52796] server connect www.gstatic.com:443 (64.233.164.94:443)\n",
      "[::1]:52780: POST https://rr2---sn-4pvgq-n8vs.googlevideo.com/videoplayba…\n",
      "          << 200 OK 193k\n",
      "[::1]:52780: POST https://rr2---sn-4pvgq-n8vs.googlevideo.com/videoplayba…\n",
      "          << 200 OK 8.1k\n",
      "[::1]:52782: POST https://rr2---sn-4pvgq-n8vs.googlevideo.com/videoplayba…\n",
      "          << 200 OK 15.5k\n",
      "[::1]:52782: POST https://rr2---sn-4pvgq-n8vs.googlevideo.com/videoplayba…\n",
      "          << 200 OK 1.2m\n",
      "[16:13:53.833][[::1]:52806] client connect\n",
      "[16:13:53.875][[::1]:52806] server connect www.google.com:443 (142.250.74.68:443)\n",
      "[16:13:54.910][[::1]:52822] client connect\n",
      "[16:13:54.957][[::1]:52822] server connect googleads.g.doubleclick.net:443 (64.233.164.156:443)\n",
      "Setting network conditions...\n",
      "Finding play element...\n",
      "Clicking...\n",
      "[16:13:55.389][[::1]:52836] client connect\n",
      "[16:13:55.451][[::1]:52836] server connect yt3.ggpht.com:443 (209.85.233.198:443)\n",
      "[16:13:55.463][[::1]:52848] client connect\n",
      "[16:13:55.469][[::1]:52836] Server TLS handshake failed. connection closed\n",
      "[16:13:55.469][[::1]:52836] Unable to establish TLS connection with server (connection closed). Trying to establish TLS with client anyway. If you plan to redirect requests away from this server, consider setting `connection_strategy` to `lazy` to suppress early connections.\n",
      "[16:13:55.475][[::1]:52836] server disconnect yt3.ggpht.com:443 (209.85.233.198:443)\n",
      "[16:13:55.503][[::1]:52848] server connect www.google.ru:443 (142.250.74.131:443)\n",
      "Finding full screen element...\n",
      "Clicking...\n",
      "[16:13:55.879][[::1]:52858] client connect\n",
      "Sleeping for 500 seconds...\n",
      "[16:13:55.983][[::1]:52858] server connect youtube.com:443 (142.251.1.93:443)\n",
      "[::1]:52780: POST https://rr2---sn-4pvgq-n8vs.googlevideo.com/videoplayba…\n",
      "          << 200 OK 1.6m\n",
      "[::1]:52782: POST https://rr2---sn-4pvgq-n8vs.googlevideo.com/videoplayba…\n",
      "          << 200 OK 717k\n",
      "[::1]:52780: POST https://rr2---sn-4pvgq-n8vs.googlevideo.com/videoplayba…\n",
      "          << 200 OK 8.1k\n",
      "[::1]:52782: POST https://rr2---sn-4pvgq-n8vs.googlevideo.com/videoplayba…\n",
      "          << 200 OK 482k\n",
      "[16:14:22.751][[::1]:48738] client connect\n",
      "[16:14:22.793][[::1]:48738] server connect play.google.com:443 (108.177.14.102:443)\n",
      "[::1]:52782: POST https://rr2---sn-4pvgq-n8vs.googlevideo.com/videoplayba…\n",
      "          << 200 OK 485k\n",
      "[::1]:52782: POST https://rr2---sn-4pvgq-n8vs.googlevideo.com/videoplayba…\n",
      "          << 200 OK 498k\n",
      "[::1]:52780: POST https://rr2---sn-4pvgq-n8vs.googlevideo.com/videoplayba…\n",
      "          << 200 OK 505k\n",
      "[::1]:52782: POST https://rr2---sn-4pvgq-n8vs.googlevideo.com/videoplayba…\n",
      "          << 200 OK 318k\n",
      "[::1]:52782: POST https://rr2---sn-4pvgq-n8vs.googlevideo.com/videoplayba…\n",
      "          << 200 OK 358k\n",
      "[::1]:52782: POST https://rr2---sn-4pvgq-n8vs.googlevideo.com/videoplayba…\n",
      "          << 200 OK 316k\n",
      "[::1]:52782: POST https://rr2---sn-4pvgq-n8vs.googlevideo.com/videoplayba…\n",
      "          << 200 OK 320k\n",
      "[::1]:52782: POST https://rr2---sn-4pvgq-n8vs.googlevideo.com/videoplayba…\n",
      "          << 200 OK 432k\n",
      "[::1]:52780: POST https://rr2---sn-4pvgq-n8vs.googlevideo.com/videoplayba…\n",
      "          << 200 OK 458k\n",
      "[::1]:52780: POST https://rr2---sn-4pvgq-n8vs.googlevideo.com/videoplayba…\n",
      "          << 200 OK 510k\n",
      "[::1]:52780: POST https://rr2---sn-4pvgq-n8vs.googlevideo.com/videoplayba…\n",
      "          << 200 OK 491k\n",
      "[::1]:52782: POST https://rr2---sn-4pvgq-n8vs.googlevideo.com/videoplayba…\n",
      "          << 200 OK 493k\n",
      "[::1]:52780: POST https://rr2---sn-4pvgq-n8vs.googlevideo.com/videoplayba…\n",
      "          << 200 OK 590k\n",
      "[::1]:52780: POST https://rr2---sn-4pvgq-n8vs.googlevideo.com/videoplayba…\n",
      "          << 200 OK 682k\n",
      "[::1]:52780: POST https://rr2---sn-4pvgq-n8vs.googlevideo.com/videoplayba…\n",
      "          << 200 OK 710k\n",
      "[::1]:52780: POST https://rr2---sn-4pvgq-n8vs.googlevideo.com/videoplayba…\n",
      "          << 200 OK 599k\n",
      "[::1]:52780: POST https://rr2---sn-4pvgq-n8vs.googlevideo.com/videoplayba…\n",
      "          << 200 OK 648k\n",
      "[::1]:52782: POST https://rr2---sn-4pvgq-n8vs.googlevideo.com/videoplayba…\n",
      "          << 200 OK 674k\n",
      "[::1]:52782: POST https://rr2---sn-4pvgq-n8vs.googlevideo.com/videoplayba…\n",
      "          << 200 OK 605k\n",
      "[::1]:52780: POST https://rr2---sn-4pvgq-n8vs.googlevideo.com/videoplayba…\n",
      "          << 200 OK 640k\n",
      "[16:15:51.598][[::1]:52770] server disconnect rr4---sn-4pvgq-n8v6.googlevideo.com:443 (80.77.175.47:443)\n",
      "[16:15:51.603][[::1]:52768] server disconnect rr4---sn-4pvgq-n8v6.googlevideo.com:443 (80.77.175.47:443)\n",
      "[::1]:52780: POST https://rr2---sn-4pvgq-n8vs.googlevideo.com/videoplayba…\n",
      "          << 200 OK 635k\n",
      "[::1]:52782: POST https://rr2---sn-4pvgq-n8vs.googlevideo.com/videoplayba…\n",
      "          << 200 OK 623k\n",
      "[::1]:52782: POST https://rr2---sn-4pvgq-n8vs.googlevideo.com/videoplayba…\n",
      "          << 200 OK 602k\n",
      "[::1]:52780: POST https://rr2---sn-4pvgq-n8vs.googlevideo.com/videoplayba…\n",
      "          << 200 OK 708k\n",
      "[::1]:52780: POST https://rr2---sn-4pvgq-n8vs.googlevideo.com/videoplayba…\n",
      "          << 200 OK 707k\n",
      "[::1]:52780: POST https://rr2---sn-4pvgq-n8vs.googlevideo.com/videoplayba…\n",
      "          << 200 OK 691k\n",
      "[::1]:52782: POST https://rr2---sn-4pvgq-n8vs.googlevideo.com/videoplayba…\n",
      "          << 200 OK 596k\n",
      "[::1]:52780: POST https://rr2---sn-4pvgq-n8vs.googlevideo.com/videoplayba…\n",
      "          << 200 OK 539k\n",
      "[::1]:52780: POST https://rr2---sn-4pvgq-n8vs.googlevideo.com/videoplayba…\n",
      "          << 200 OK 612k\n",
      "[::1]:52782: POST https://rr2---sn-4pvgq-n8vs.googlevideo.com/videoplayba…\n",
      "          << 200 OK 613k\n",
      "[::1]:52780: POST https://rr2---sn-4pvgq-n8vs.googlevideo.com/videoplayba…\n",
      "          << 200 OK 590k\n",
      "[::1]:52780: POST https://rr2---sn-4pvgq-n8vs.googlevideo.com/videoplayba…\n",
      "          << 200 OK 678k\n",
      "[::1]:52780: POST https://rr2---sn-4pvgq-n8vs.googlevideo.com/videoplayba…\n",
      "          << 200 OK 641k\n",
      "[::1]:52782: POST https://rr2---sn-4pvgq-n8vs.googlevideo.com/videoplayba…\n",
      "          << 200 OK 608k\n",
      "[::1]:52780: POST https://rr2---sn-4pvgq-n8vs.googlevideo.com/videoplayba…\n",
      "          << 200 OK 809k\n",
      "[::1]:52782: POST https://rr2---sn-4pvgq-n8vs.googlevideo.com/videoplayba…\n",
      "          << 200 OK 705k\n",
      "[::1]:52780: POST https://rr2---sn-4pvgq-n8vs.googlevideo.com/videoplayba…\n",
      "          << 200 OK 1012k\n",
      "[::1]:52782: POST https://rr2---sn-4pvgq-n8vs.googlevideo.com/videoplayba…\n",
      "          << 200 OK 838k\n",
      "[::1]:52780: POST https://rr2---sn-4pvgq-n8vs.googlevideo.com/videoplayba…\n",
      "          << 200 OK 697k\n",
      "[::1]:52780: POST https://rr2---sn-4pvgq-n8vs.googlevideo.com/videoplayba…\n",
      "          << 200 OK 628k\n",
      "[::1]:52782: POST https://rr2---sn-4pvgq-n8vs.googlevideo.com/videoplayba…\n",
      "          << 200 OK 639k\n",
      "[16:17:52.961][[::1]:52794] 173.194.220.148:443: HTTP/2 protocol error: Invalid input ConnectionInputs.RECV_PING in state ConnectionState.CLOSED\n",
      "[16:17:52.961][[::1]:52794] server disconnect static.doubleclick.net:443 (173.194.220.148:443)\n",
      "[16:17:52.990][[::1]:52786] 142.250.150.84:443: HTTP/2 protocol error: Invalid input ConnectionInputs.RECV_PING in state ConnectionState.CLOSED\n",
      "[16:17:52.990][[::1]:52786] server disconnect accounts.google.com:443 (142.250.150.84:443)\n",
      "[16:17:55.194][[::1]:52788] 172.217.21.170:443: HTTP/2 protocol error: Invalid input ConnectionInputs.RECV_PING in state ConnectionState.CLOSED\n",
      "[16:17:55.194][[::1]:52788] server disconnect jnn-pa.googleapis.com:443 (172.217.21.170:443)\n",
      "[16:17:55.503][[::1]:52754] 142.250.74.170:443: HTTP/2 protocol error: Invalid input ConnectionInputs.RECV_PING in state ConnectionState.CLOSED\n",
      "[16:17:55.503][[::1]:52806] 142.250.74.68:443: HTTP/2 protocol error: Invalid input ConnectionInputs.RECV_PING in state ConnectionState.CLOSED\n",
      "[16:17:55.504][[::1]:52754] server disconnect fonts.googleapis.com:443 (142.250.74.170:443)\n",
      "[16:17:55.504][[::1]:52806] server disconnect www.google.com:443 (142.250.74.68:443)\n",
      "[16:17:55.585][[::1]:52848] 142.250.74.131:443: HTTP/2 protocol error: Invalid input ConnectionInputs.RECV_PING in state ConnectionState.CLOSED\n",
      "[16:17:55.586][[::1]:52848] server disconnect www.google.ru:443 (142.250.74.131:443)\n",
      "[::1]:52780: POST https://rr2---sn-4pvgq-n8vs.googlevideo.com/videoplayba…\n",
      "          << 200 OK 782k\n",
      "[16:17:55.705][[::1]:52772] 64.233.164.119:443: HTTP/2 protocol error: Invalid input ConnectionInputs.RECV_PING in state ConnectionState.CLOSED\n",
      "[16:17:55.706][[::1]:52772] server disconnect i.ytimg.com:443 (64.233.164.119:443)\n",
      "[16:17:56.115][[::1]:52858] 142.251.1.93:443: HTTP/2 protocol error: Invalid input ConnectionInputs.RECV_PING in state ConnectionState.CLOSED\n",
      "[16:17:56.115][[::1]:52858] server disconnect youtube.com:443 (142.251.1.93:443)\n",
      "[16:17:56.972][[::1]:52796] 64.233.164.94:443: HTTP/2 protocol error: Invalid input ConnectionInputs.RECV_PING in state ConnectionState.CLOSED\n",
      "[16:17:56.973][[::1]:52796] server disconnect www.gstatic.com:443 (64.233.164.94:443)\n",
      "[16:17:57.509][[::1]:52778] 142.250.74.67:443: HTTP/2 protocol error: Invalid input ConnectionInputs.RECV_PING in state ConnectionState.CLOSED\n",
      "[16:17:57.510][[::1]:52778] server disconnect fonts.gstatic.com:443 (142.250.74.67:443)\n",
      "[::1]:52782: POST https://rr2---sn-4pvgq-n8vs.googlevideo.com/videoplayba…\n",
      "          << 200 OK 772k\n",
      "[::1]:52780: POST https://rr2---sn-4pvgq-n8vs.googlevideo.com/videoplayba…\n",
      "          << 200 OK 664k\n",
      "[::1]:52780: POST https://rr2---sn-4pvgq-n8vs.googlevideo.com/videoplayba…\n",
      "          << 200 OK 685k\n",
      "[::1]:52780: POST https://rr2---sn-4pvgq-n8vs.googlevideo.com/videoplayba…\n",
      "          << 200 OK 666k\n",
      "[16:18:22.943][[::1]:48738] 108.177.14.102:443: HTTP/2 protocol error: Invalid input ConnectionInputs.RECV_PING in state ConnectionState.CLOSED\n",
      "[16:18:22.944][[::1]:48738] server disconnect play.google.com:443 (108.177.14.102:443)\n",
      "[::1]:52780: POST https://rr2---sn-4pvgq-n8vs.googlevideo.com/videoplayba…\n",
      "          << 200 OK 681k\n",
      "[::1]:52782: POST https://rr2---sn-4pvgq-n8vs.googlevideo.com/videoplayba…\n",
      "          << 200 OK 661k\n",
      "[::1]:52780: POST https://rr2---sn-4pvgq-n8vs.googlevideo.com/videoplayba…\n",
      "          << 200 OK 760k\n",
      "[::1]:52782: POST https://rr2---sn-4pvgq-n8vs.googlevideo.com/videoplayba…\n",
      "          << 200 OK 669k\n",
      "[::1]:52782: POST https://rr2---sn-4pvgq-n8vs.googlevideo.com/videoplayba…\n",
      "          << 200 OK 660k\n",
      "[::1]:52780: POST https://rr2---sn-4pvgq-n8vs.googlevideo.com/videoplayba…\n",
      "          << 200 OK 635k\n",
      "[16:18:55.295][[::1]:52770] client disconnect\n",
      "[16:18:55.296][[::1]:52768] client disconnect\n",
      "[::1]:52782: POST https://rr2---sn-4pvgq-n8vs.googlevideo.com/videoplayba…\n",
      "          << 200 OK 660k\n",
      "[::1]:52780: POST https://rr2---sn-4pvgq-n8vs.googlevideo.com/videoplayba…\n",
      "          << 200 OK 756k\n",
      "[::1]:52780: POST https://rr2---sn-4pvgq-n8vs.googlevideo.com/videoplayba…\n",
      "          << 200 OK 739k\n",
      "[::1]:52782: POST https://rr2---sn-4pvgq-n8vs.googlevideo.com/videoplayba…\n",
      "          << 200 OK 707k\n",
      "[::1]:52782: POST https://rr2---sn-4pvgq-n8vs.googlevideo.com/videoplayba…\n",
      "          << 200 OK 596k\n",
      "[::1]:52780: POST https://rr2---sn-4pvgq-n8vs.googlevideo.com/videoplayba…\n",
      "          << 200 OK 1.4m\n",
      "[::1]:52780: POST https://rr2---sn-4pvgq-n8vs.googlevideo.com/videoplayba…\n",
      "          << 200 OK 1.5m\n",
      "[::1]:52780: POST https://rr2---sn-4pvgq-n8vs.googlevideo.com/videoplayba…\n",
      "          << 200 OK 736k\n",
      "[::1]:52782: POST https://rr2---sn-4pvgq-n8vs.googlevideo.com/videoplayba…\n",
      "          << 200 OK 703k\n",
      "[16:19:55.819][[::1]:52822] 64.233.164.156:443: HTTP/2 protocol error: Invalid input ConnectionInputs.RECV_PING in state ConnectionState.CLOSED\n",
      "[16:19:55.820][[::1]:52822] server disconnect googleads.g.doubleclick.net:443 (64.233.164.156:443)\n",
      "[::1]:52780: POST https://rr2---sn-4pvgq-n8vs.googlevideo.com/videoplayba…\n",
      "          << 200 OK 722k\n",
      "[::1]:52782: POST https://rr2---sn-4pvgq-n8vs.googlevideo.com/videoplayba…\n",
      "          << 200 OK 696k\n",
      "[::1]:52782: POST https://rr2---sn-4pvgq-n8vs.googlevideo.com/videoplayba…\n",
      "          << 200 OK 669k\n",
      "[::1]:52782: POST https://rr2---sn-4pvgq-n8vs.googlevideo.com/videoplayba…\n",
      "          << 200 OK 671k\n",
      "[::1]:52780: POST https://rr2---sn-4pvgq-n8vs.googlevideo.com/videoplayba…\n",
      "          << 200 OK 677k\n",
      "[::1]:52782: POST https://rr2---sn-4pvgq-n8vs.googlevideo.com/videoplayba…\n",
      "          << 200 OK 521k\n",
      "[::1]:52782: POST https://rr2---sn-4pvgq-n8vs.googlevideo.com/videoplayba…\n",
      "          << 200 OK 717k\n",
      "[::1]:52782: POST https://rr2---sn-4pvgq-n8vs.googlevideo.com/videoplayba…\n",
      "          << 200 OK 700k\n",
      "[::1]:52780: POST https://rr2---sn-4pvgq-n8vs.googlevideo.com/videoplayba…\n",
      "          << 200 OK 750k\n",
      "[::1]:52782: POST https://rr2---sn-4pvgq-n8vs.googlevideo.com/videoplayba…\n",
      "          << 200 OK 600k\n",
      "[::1]:52780: POST https://rr2---sn-4pvgq-n8vs.googlevideo.com/videoplayba…\n",
      "          << 200 OK 654k\n",
      "[::1]:52780: POST https://rr2---sn-4pvgq-n8vs.googlevideo.com/videoplayba…\n",
      "          << 200 OK 611k\n",
      "[::1]:52780: POST https://rr2---sn-4pvgq-n8vs.googlevideo.com/videoplayba…\n",
      "          << 200 OK 648k\n",
      "[::1]:52782: POST https://rr2---sn-4pvgq-n8vs.googlevideo.com/videoplayba…\n",
      "          << 200 OK 504k\n",
      "[16:21:15.959][[::1]:36614] client connect\n",
      "[16:21:16.060][[::1]:36614] server connect rr5---sn-ug5onuxaxjvh-n8vz.googlevideo.com:443 (188.43.61.80:443)\n",
      "[::1]:36614: POST https://rr5---sn-ug5onuxaxjvh-n8vz.googlevideo.com/vide…\n",
      "          << 200 OK 4.0k\n",
      "[16:21:16.659][[::1]:52782] client disconnect\n",
      "[16:21:16.660][[::1]:52782] server disconnect rr2---sn-4pvgq-n8vs.googlevideo.com:443 (80.77.172.13:443)\n",
      "[16:21:17.663][[::1]:36630] client connect\n",
      "[16:21:17.681][[::1]:36630] server connect rr5---sn-ug5onuxaxjvh-n8vz.googlevideo.com:443 (188.43.61.80:443)\n",
      "[::1]:36630: POST https://rr5---sn-ug5onuxaxjvh-n8vz.googlevideo.com/vide…\n",
      "          << 200 OK 1.1m\n",
      "[::1]:52780: POST https://rr2---sn-4pvgq-n8vs.googlevideo.com/videoplayba…\n",
      "          << 200 OK 4.0k\n",
      "[::1]:52780: POST https://rr2---sn-4pvgq-n8vs.googlevideo.com/videoplayba…\n",
      "          << 200 OK 603k\n",
      "[16:21:31.482][[::1]:48290] client connect\n",
      "[16:21:31.585][[::1]:48290] server connect rr2---sn-4pvgq-n8vs.googlevideo.com:443 (80.77.172.13:443)\n",
      "[::1]:48290: POST https://rr2---sn-4pvgq-n8vs.googlevideo.com/videoplayba…\n",
      "          << 200 OK 824k\n",
      "[::1]:48290: POST https://rr2---sn-4pvgq-n8vs.googlevideo.com/videoplayba…\n",
      "          << 200 OK 786k\n",
      "[::1]:48290: POST https://rr2---sn-4pvgq-n8vs.googlevideo.com/videoplayba…\n",
      "          << 200 OK 752k\n",
      "[::1]:52780: POST https://rr2---sn-4pvgq-n8vs.googlevideo.com/videoplayba…\n",
      "          << 200 OK 829k\n",
      "[::1]:48290: POST https://rr2---sn-4pvgq-n8vs.googlevideo.com/videoplayba…\n",
      "          << 200 OK 801k\n",
      "[::1]:48290: POST https://rr2---sn-4pvgq-n8vs.googlevideo.com/videoplayba…\n",
      "          << 200 OK 734k\n",
      "[::1]:48290: POST https://rr2---sn-4pvgq-n8vs.googlevideo.com/videoplayba…\n",
      "          << 200 OK 718k\n",
      "[::1]:48290: POST https://rr2---sn-4pvgq-n8vs.googlevideo.com/videoplayba…\n",
      "          << 200 OK 614k\n",
      "REceiving data...\n",
      "[16:22:16.510] Loading script mitmdump_script.py\n",
      "data/processed_1192kbps_500ms.txt\n",
      "[::1]:52780: POST https://rr2---sn-4pvgq-n8vs.googlevideo.com/videoplayba…\n",
      "          << 200 OK 193k\n",
      "[::1]:52780: POST https://rr2---sn-4pvgq-n8vs.googlevideo.com/videoplayba…\n",
      "          << 200 OK 8.1k\n",
      "[::1]:52782: POST https://rr2---sn-4pvgq-n8vs.googlevideo.com/videoplayba…\n",
      "          << 200 OK 15.5k\n",
      "[::1]:52782: POST https://rr2---sn-4pvgq-n8vs.googlevideo.com/videoplayba…\n",
      "          << 200 OK 1.2m\n",
      "[::1]:52780: POST https://rr2---sn-4pvgq-n8vs.googlevideo.com/videoplayba…\n",
      "          << 200 OK 1.6m\n",
      "[::1]:52782: POST https://rr2---sn-4pvgq-n8vs.googlevideo.com/videoplayba…\n",
      "          << 200 OK 717k\n",
      "[::1]:52780: POST https://rr2---sn-4pvgq-n8vs.googlevideo.com/videoplayba…\n",
      "          << 200 OK 8.1k\n",
      "[::1]:52782: POST https://rr2---sn-4pvgq-n8vs.googlevideo.com/videoplayba…\n",
      "          << 200 OK 482k\n",
      "[::1]:52782: POST https://rr2---sn-4pvgq-n8vs.googlevideo.com/videoplayba…\n",
      "          << 200 OK 485k\n",
      "[::1]:52782: POST https://rr2---sn-4pvgq-n8vs.googlevideo.com/videoplayba…\n",
      "          << 200 OK 498k\n",
      "[::1]:52780: POST https://rr2---sn-4pvgq-n8vs.googlevideo.com/videoplayba…\n",
      "          << 200 OK 505k\n",
      "[::1]:52782: POST https://rr2---sn-4pvgq-n8vs.googlevideo.com/videoplayba…\n",
      "          << 200 OK 318k\n",
      "[::1]:52782: POST https://rr2---sn-4pvgq-n8vs.googlevideo.com/videoplayba…\n",
      "          << 200 OK 358k\n",
      "[::1]:52782: POST https://rr2---sn-4pvgq-n8vs.googlevideo.com/videoplayba…\n",
      "          << 200 OK 316k\n",
      "[::1]:52782: POST https://rr2---sn-4pvgq-n8vs.googlevideo.com/videoplayba…\n",
      "          << 200 OK 320k\n",
      "[::1]:52782: POST https://rr2---sn-4pvgq-n8vs.googlevideo.com/videoplayba…\n",
      "          << 200 OK 432k\n",
      "[::1]:52780: POST https://rr2---sn-4pvgq-n8vs.googlevideo.com/videoplayba…\n",
      "          << 200 OK 458k\n",
      "[::1]:52780: POST https://rr2---sn-4pvgq-n8vs.googlevideo.com/videoplayba…\n",
      "          << 200 OK 510k\n",
      "[::1]:52780: POST https://rr2---sn-4pvgq-n8vs.googlevideo.com/videoplayba…\n",
      "          << 200 OK 491k\n",
      "[::1]:52782: POST https://rr2---sn-4pvgq-n8vs.googlevideo.com/videoplayba…\n",
      "          << 200 OK 493k\n",
      "[::1]:52780: POST https://rr2---sn-4pvgq-n8vs.googlevideo.com/videoplayba…\n",
      "          << 200 OK 590k\n",
      "[::1]:52780: POST https://rr2---sn-4pvgq-n8vs.googlevideo.com/videoplayba…\n",
      "          << 200 OK 682k\n",
      "[::1]:52780: POST https://rr2---sn-4pvgq-n8vs.googlevideo.com/videoplayba…\n",
      "          << 200 OK 710k\n",
      "[::1]:52780: POST https://rr2---sn-4pvgq-n8vs.googlevideo.com/videoplayba…\n",
      "          << 200 OK 599k\n",
      "[::1]:52780: POST https://rr2---sn-4pvgq-n8vs.googlevideo.com/videoplayba…\n",
      "          << 200 OK 648k\n",
      "[::1]:52782: POST https://rr2---sn-4pvgq-n8vs.googlevideo.com/videoplayba…\n",
      "          << 200 OK 674k\n",
      "[::1]:52782: POST https://rr2---sn-4pvgq-n8vs.googlevideo.com/videoplayba…\n",
      "          << 200 OK 605k\n",
      "[::1]:52780: POST https://rr2---sn-4pvgq-n8vs.googlevideo.com/videoplayba…\n",
      "          << 200 OK 640k\n",
      "[::1]:52780: POST https://rr2---sn-4pvgq-n8vs.googlevideo.com/videoplayba…\n",
      "          << 200 OK 635k\n",
      "[::1]:52782: POST https://rr2---sn-4pvgq-n8vs.googlevideo.com/videoplayba…\n",
      "          << 200 OK 623k\n",
      "[::1]:52782: POST https://rr2---sn-4pvgq-n8vs.googlevideo.com/videoplayba…\n",
      "          << 200 OK 602k\n",
      "[::1]:52780: POST https://rr2---sn-4pvgq-n8vs.googlevideo.com/videoplayba…\n",
      "          << 200 OK 708k\n",
      "[::1]:52780: POST https://rr2---sn-4pvgq-n8vs.googlevideo.com/videoplayba…\n",
      "          << 200 OK 707k\n",
      "[::1]:52780: POST https://rr2---sn-4pvgq-n8vs.googlevideo.com/videoplayba…\n",
      "          << 200 OK 691k\n",
      "[::1]:52782: POST https://rr2---sn-4pvgq-n8vs.googlevideo.com/videoplayba…\n",
      "          << 200 OK 596k\n",
      "[::1]:52780: POST https://rr2---sn-4pvgq-n8vs.googlevideo.com/videoplayba…\n",
      "          << 200 OK 539k\n",
      "[::1]:52780: POST https://rr2---sn-4pvgq-n8vs.googlevideo.com/videoplayba…\n",
      "          << 200 OK 612k\n",
      "[::1]:52782: POST https://rr2---sn-4pvgq-n8vs.googlevideo.com/videoplayba…\n",
      "          << 200 OK 613k\n",
      "[::1]:52780: POST https://rr2---sn-4pvgq-n8vs.googlevideo.com/videoplayba…\n",
      "          << 200 OK 590k\n",
      "[::1]:52780: POST https://rr2---sn-4pvgq-n8vs.googlevideo.com/videoplayba…\n",
      "          << 200 OK 678k\n",
      "[::1]:52780: POST https://rr2---sn-4pvgq-n8vs.googlevideo.com/videoplayba…\n",
      "          << 200 OK 641k\n",
      "[::1]:52782: POST https://rr2---sn-4pvgq-n8vs.googlevideo.com/videoplayba…\n",
      "          << 200 OK 608k\n",
      "[::1]:52780: POST https://rr2---sn-4pvgq-n8vs.googlevideo.com/videoplayba…\n",
      "          << 200 OK 809k\n",
      "[::1]:52782: POST https://rr2---sn-4pvgq-n8vs.googlevideo.com/videoplayba…\n",
      "          << 200 OK 705k\n",
      "[::1]:52780: POST https://rr2---sn-4pvgq-n8vs.googlevideo.com/videoplayba…\n",
      "          << 200 OK 1012k\n",
      "[::1]:52782: POST https://rr2---sn-4pvgq-n8vs.googlevideo.com/videoplayba…\n",
      "          << 200 OK 838k\n",
      "[::1]:52780: POST https://rr2---sn-4pvgq-n8vs.googlevideo.com/videoplayba…\n",
      "          << 200 OK 697k\n",
      "[::1]:52780: POST https://rr2---sn-4pvgq-n8vs.googlevideo.com/videoplayba…\n",
      "          << 200 OK 628k\n",
      "[::1]:52782: POST https://rr2---sn-4pvgq-n8vs.googlevideo.com/videoplayba…\n",
      "          << 200 OK 639k\n",
      "[::1]:52780: POST https://rr2---sn-4pvgq-n8vs.googlevideo.com/videoplayba…\n",
      "          << 200 OK 782k\n",
      "[::1]:52782: POST https://rr2---sn-4pvgq-n8vs.googlevideo.com/videoplayba…\n",
      "          << 200 OK 772k\n",
      "[::1]:52780: POST https://rr2---sn-4pvgq-n8vs.googlevideo.com/videoplayba…\n",
      "          << 200 OK 664k\n",
      "[::1]:52780: POST https://rr2---sn-4pvgq-n8vs.googlevideo.com/videoplayba…\n",
      "          << 200 OK 685k\n",
      "[::1]:52780: POST https://rr2---sn-4pvgq-n8vs.googlevideo.com/videoplayba…\n",
      "          << 200 OK 666k\n",
      "[::1]:52780: POST https://rr2---sn-4pvgq-n8vs.googlevideo.com/videoplayba…\n",
      "          << 200 OK 681k\n",
      "[::1]:52782: POST https://rr2---sn-4pvgq-n8vs.googlevideo.com/videoplayba…\n",
      "          << 200 OK 661k\n",
      "[::1]:52780: POST https://rr2---sn-4pvgq-n8vs.googlevideo.com/videoplayba…\n",
      "          << 200 OK 760k\n",
      "[::1]:52782: POST https://rr2---sn-4pvgq-n8vs.googlevideo.com/videoplayba…\n",
      "          << 200 OK 669k\n",
      "[::1]:52782: POST https://rr2---sn-4pvgq-n8vs.googlevideo.com/videoplayba…\n",
      "          << 200 OK 660k\n",
      "[::1]:52780: POST https://rr2---sn-4pvgq-n8vs.googlevideo.com/videoplayba…\n",
      "          << 200 OK 635k\n",
      "[::1]:52782: POST https://rr2---sn-4pvgq-n8vs.googlevideo.com/videoplayba…\n",
      "          << 200 OK 660k\n",
      "[::1]:52780: POST https://rr2---sn-4pvgq-n8vs.googlevideo.com/videoplayba…\n",
      "          << 200 OK 756k\n",
      "[::1]:52780: POST https://rr2---sn-4pvgq-n8vs.googlevideo.com/videoplayba…\n",
      "          << 200 OK 739k\n",
      "[::1]:52782: POST https://rr2---sn-4pvgq-n8vs.googlevideo.com/videoplayba…\n",
      "          << 200 OK 707k\n",
      "[::1]:52782: POST https://rr2---sn-4pvgq-n8vs.googlevideo.com/videoplayba…\n",
      "          << 200 OK 596k\n",
      "[::1]:52780: POST https://rr2---sn-4pvgq-n8vs.googlevideo.com/videoplayba…\n",
      "          << 200 OK 1.4m\n",
      "[::1]:52780: POST https://rr2---sn-4pvgq-n8vs.googlevideo.com/videoplayba…\n",
      "          << 200 OK 1.5m\n",
      "[::1]:52780: POST https://rr2---sn-4pvgq-n8vs.googlevideo.com/videoplayba…\n",
      "          << 200 OK 736k\n",
      "[::1]:52782: POST https://rr2---sn-4pvgq-n8vs.googlevideo.com/videoplayba…\n",
      "          << 200 OK 703k\n",
      "[::1]:52780: POST https://rr2---sn-4pvgq-n8vs.googlevideo.com/videoplayba…\n",
      "          << 200 OK 722k\n",
      "[::1]:52782: POST https://rr2---sn-4pvgq-n8vs.googlevideo.com/videoplayba…\n",
      "          << 200 OK 696k\n",
      "[::1]:52782: POST https://rr2---sn-4pvgq-n8vs.googlevideo.com/videoplayba…\n",
      "          << 200 OK 669k\n",
      "[::1]:52782: POST https://rr2---sn-4pvgq-n8vs.googlevideo.com/videoplayba…\n",
      "          << 200 OK 671k\n",
      "[::1]:52780: POST https://rr2---sn-4pvgq-n8vs.googlevideo.com/videoplayba…\n",
      "          << 200 OK 677k\n",
      "[::1]:52782: POST https://rr2---sn-4pvgq-n8vs.googlevideo.com/videoplayba…\n",
      "          << 200 OK 521k\n",
      "[::1]:52782: POST https://rr2---sn-4pvgq-n8vs.googlevideo.com/videoplayba…\n",
      "          << 200 OK 717k\n",
      "[::1]:52782: POST https://rr2---sn-4pvgq-n8vs.googlevideo.com/videoplayba…\n",
      "          << 200 OK 700k\n",
      "[::1]:52780: POST https://rr2---sn-4pvgq-n8vs.googlevideo.com/videoplayba…\n",
      "          << 200 OK 750k\n",
      "[::1]:52782: POST https://rr2---sn-4pvgq-n8vs.googlevideo.com/videoplayba…\n",
      "          << 200 OK 600k\n",
      "[::1]:52780: POST https://rr2---sn-4pvgq-n8vs.googlevideo.com/videoplayba…\n",
      "          << 200 OK 654k\n",
      "[::1]:52780: POST https://rr2---sn-4pvgq-n8vs.googlevideo.com/videoplayba…\n",
      "          << 200 OK 611k\n",
      "[::1]:52780: POST https://rr2---sn-4pvgq-n8vs.googlevideo.com/videoplayba…\n",
      "          << 200 OK 648k\n",
      "[::1]:52782: POST https://rr2---sn-4pvgq-n8vs.googlevideo.com/videoplayba…\n",
      "          << 200 OK 504k\n",
      "[::1]:36614: POST https://rr5---sn-ug5onuxaxjvh-n8vz.googlevideo.com/vide…\n",
      "          << 200 OK 4.0k\n",
      "[::1]:36630: POST https://rr5---sn-ug5onuxaxjvh-n8vz.googlevideo.com/vide…\n",
      "          << 200 OK 1.1m\n",
      "[::1]:52780: POST https://rr2---sn-4pvgq-n8vs.googlevideo.com/videoplayba…\n",
      "          << 200 OK 4.0k\n",
      "[::1]:52780: POST https://rr2---sn-4pvgq-n8vs.googlevideo.com/videoplayba…\n",
      "          << 200 OK 603k\n",
      "[::1]:48290: POST https://rr2---sn-4pvgq-n8vs.googlevideo.com/videoplayba…\n",
      "          << 200 OK 824k\n",
      "[::1]:48290: POST https://rr2---sn-4pvgq-n8vs.googlevideo.com/videoplayba…\n",
      "          << 200 OK 786k\n",
      "[::1]:48290: POST https://rr2---sn-4pvgq-n8vs.googlevideo.com/videoplayba…\n",
      "          << 200 OK 752k\n",
      "[::1]:52780: POST https://rr2---sn-4pvgq-n8vs.googlevideo.com/videoplayba…\n",
      "          << 200 OK 829k\n",
      "[::1]:48290: POST https://rr2---sn-4pvgq-n8vs.googlevideo.com/videoplayba…\n",
      "          << 200 OK 801k\n",
      "[::1]:48290: POST https://rr2---sn-4pvgq-n8vs.googlevideo.com/videoplayba…\n",
      "          << 200 OK 734k\n",
      "[::1]:48290: POST https://rr2---sn-4pvgq-n8vs.googlevideo.com/videoplayba…\n",
      "          << 200 OK 718k\n",
      "[::1]:48290: POST https://rr2---sn-4pvgq-n8vs.googlevideo.com/videoplayba…\n",
      "          << 200 OK 614k\n",
      "Experiment done.\n"
     ]
    }
   ],
   "source": [
    "latency=500\n",
    "br=1192\n",
    "run_test(br=br, plr=0, latency=latency, url=\"https://www.youtube.com/watch?v=lyh2kAjcmSY\", \\\n",
    "                exp_time=500, headless=True, use_chrome_limiter=True, folder='data/')"
   ]
  },
  {
   "cell_type": "code",
   "execution_count": 38,
   "metadata": {},
   "outputs": [
    {
     "name": "stdout",
     "output_type": "stream",
     "text": [
      "We made 95 RESPs\n"
     ]
    },
    {
     "data": {
      "application/vnd.plotly.v1+json": {
       "config": {
        "plotlyServerURL": "https://plot.ly"
       },
       "data": [
        {
         "mode": "lines+markers",
         "name": "Буфер",
         "type": "scatter",
         "x": [
          0,
          0.19729113578796387,
          0.41155505180358887,
          0.43875598907470703,
          8.214434385299683,
          18.83919882774353,
          20.661095142364502,
          24.894920349121094,
          30.399576902389526,
          34.16488265991211,
          40.48570919036865,
          44.33855104446411,
          46.98437476158142,
          52.67698550224304,
          55.31128549575806,
          57.974995613098145,
          61.345942735672,
          68.50204300880432,
          72.42657327651978,
          76.22352290153503,
          79.99046659469604,
          84.45462107658386,
          89.54261469841003,
          98.39162111282349,
          103.23407697677612,
          108.08982419967651,
          113.13572335243225,
          117.65847516059875,
          122.46633863449097,
          129.92871642112732,
          134.62127876281738,
          138.90815138816833,
          148.05720710754395,
          153.3247423171997,
          158.03070974349976,
          162.2676339149475,
          166.395676612854,
          170.77589082717896,
          177.77522492408752,
          182.25264620780945,
          187.3138883113861,
          192.0487084388733,
          198.96995544433594,
          204.79594016075134,
          210.0022828578949,
          220.0071349143982,
          226.0418930053711,
          231.23807525634766,
          235.5773856639862,
          242.74661493301392,
          248.3587350845337,
          253.67146849632263,
          258.6428053379059,
          266.39276242256165,
          271.3956878185272,
          275.9864444732666,
          283.3697988986969,
          288.7358844280243,
          293.74677896499634,
          298.29557824134827,
          304.3005654811859,
          308.8939936161041,
          316.3542516231537,
          321.66712617874146,
          326.9300901889801,
          331.2367537021637,
          344.56844544410706,
          356.6826367378235,
          362.04570960998535,
          369.4794807434082,
          374.7967903614044,
          379.97131729125977,
          384.97423791885376,
          392.40547132492065,
          397.1089332103729,
          401.11544275283813,
          406.4532251358032,
          414.10460329055786,
          419.4230422973633,
          423.6724805831909,
          428.5754671096802,
          435.1223175525665,
          439.61241579055786,
          443.3316135406494,
          444.9487020969391,
          452.7801949977875,
          454.43278646469116,
          458.8554837703705,
          464.89853405952454,
          472.5419774055481,
          477.86111092567444,
          486.3543620109558,
          492.2503273487091,
          497.693865776062,
          503.0197014808655
         ],
         "y": [
          0,
          0,
          77.9140625,
          83.4140625,
          126.5703125,
          126.9765625,
          0,
          120.953125,
          119.078125,
          131.671875,
          123.6328125,
          136.2890625,
          157.2421875,
          153.296875,
          174.25,
          195.203125,
          212.015625,
          197.6875,
          208.265625,
          220.921875,
          233.578125,
          240.0078125,
          242.28125,
          213.4296875,
          217.7890625,
          222.140625,
          224.4140625,
          230.84375,
          235.203125,
          218.8046875,
          223.15625,
          231.65625,
          200.734375,
          200.9375,
          207.3671875,
          215.8671875,
          224.375,
          232.875,
          218.5546875,
          227.0546875,
          229.2109375,
          233.5703125,
          221.3203125,
          217.375,
          217.578125,
          180.421875,
          176.4765625,
          176.6796875,
          185.1875,
          170.859375,
          168.9921875,
          169.1953125,
          171.46875,
          153,
          155.2734375,
          161.703125,
          145.3046875,
          145.5078125,
          147.7890625,
          154.21875,
          148.1953125,
          154.625,
          138.2265625,
          138.4296875,
          138.6328125,
          147.140625,
          168.5,
          198.1640625,
          198.3671875,
          181.96875,
          182.171875,
          182.375,
          184.65625,
          168.2578125,
          174.6875,
          185.265625,
          185.46875,
          167,
          167.203125,
          175.703125,
          177.984375,
          169.8828125,
          176.3125,
          0,
          155.4140625,
          0,
          185.2265625,
          193.734375,
          187.7109375,
          169.234375,
          169.4375,
          144.7421875,
          140.796875,
          138.921875,
          139.125
         ]
        },
        {
         "mode": "lines+markers",
         "name": "Битрейт видео кБ/с",
         "type": "scatter",
         "x": [
          0,
          0.19729113578796387,
          0.41155505180358887,
          0.43875598907470703,
          8.214434385299683,
          18.83919882774353,
          20.661095142364502,
          24.894920349121094,
          30.399576902389526,
          34.16488265991211,
          40.48570919036865,
          44.33855104446411,
          46.98437476158142,
          52.67698550224304,
          55.31128549575806,
          57.974995613098145,
          61.345942735672,
          68.50204300880432,
          72.42657327651978,
          76.22352290153503,
          79.99046659469604,
          84.45462107658386,
          89.54261469841003,
          98.39162111282349,
          103.23407697677612,
          108.08982419967651,
          113.13572335243225,
          117.65847516059875,
          122.46633863449097,
          129.92871642112732,
          134.62127876281738,
          138.90815138816833,
          148.05720710754395,
          153.3247423171997,
          158.03070974349976,
          162.2676339149475,
          166.395676612854,
          170.77589082717896,
          177.77522492408752,
          182.25264620780945,
          187.3138883113861,
          192.0487084388733,
          198.96995544433594,
          204.79594016075134,
          210.0022828578949,
          220.0071349143982,
          226.0418930053711,
          231.23807525634766,
          235.5773856639862,
          242.74661493301392,
          248.3587350845337,
          253.67146849632263,
          258.6428053379059,
          266.39276242256165,
          271.3956878185272,
          275.9864444732666,
          283.3697988986969,
          288.7358844280243,
          293.74677896499634,
          298.29557824134827,
          304.3005654811859,
          308.8939936161041,
          316.3542516231537,
          321.66712617874146,
          326.9300901889801,
          331.2367537021637,
          344.56844544410706,
          356.6826367378235,
          362.04570960998535,
          369.4794807434082,
          374.7967903614044,
          379.97131729125977,
          384.97423791885376,
          392.40547132492065,
          397.1089332103729,
          401.11544275283813,
          406.4532251358032,
          414.10460329055786,
          419.4230422973633,
          423.6724805831909,
          428.5754671096802,
          435.1223175525665,
          439.61241579055786,
          443.3316135406494,
          444.9487020969391,
          452.7801949977875,
          454.43278646469116,
          458.8554837703705,
          464.89853405952454,
          472.5419774055481,
          477.86111092567444,
          486.3543620109558,
          492.2503273487091,
          497.693865776062,
          503.0197014808655
         ],
         "y": [
          437.04640983182026,
          904.6319232067916,
          437.04640983182026,
          904.6319232067916,
          904.6319232067916,
          904.6319232067916,
          228.85712491524887,
          904.6319232067916,
          904.6319232067916,
          904.6319232067916,
          904.6319232067916,
          904.6319232067916,
          904.6319232067916,
          904.6319232067916,
          904.6319232067916,
          904.6319232067916,
          904.6319232067916,
          904.6319232067916,
          904.6319232067916,
          904.6319232067916,
          904.6319232067916,
          904.6319232067916,
          904.6319232067916,
          904.6319232067916,
          904.6319232067916,
          904.6319232067916,
          904.6319232067916,
          904.6319232067916,
          904.6319232067916,
          904.6319232067916,
          904.6319232067916,
          904.6319232067916,
          904.6319232067916,
          904.6319232067916,
          904.6319232067916,
          904.6319232067916,
          904.6319232067916,
          904.6319232067916,
          904.6319232067916,
          904.6319232067916,
          904.6319232067916,
          904.6319232067916,
          904.6319232067916,
          904.6319232067916,
          904.6319232067916,
          904.6319232067916,
          904.6319232067916,
          904.6319232067916,
          904.6319232067916,
          904.6319232067916,
          904.6319232067916,
          904.6319232067916,
          904.6319232067916,
          904.6319232067916,
          904.6319232067916,
          904.6319232067916,
          904.6319232067916,
          904.6319232067916,
          904.6319232067916,
          904.6319232067916,
          904.6319232067916,
          904.6319232067916,
          904.6319232067916,
          904.6319232067916,
          904.6319232067916,
          904.6319232067916,
          904.6319232067916,
          904.6319232067916,
          904.6319232067916,
          904.6319232067916,
          904.6319232067916,
          904.6319232067916,
          904.6319232067916,
          904.6319232067916,
          904.6319232067916,
          904.6319232067916,
          904.6319232067916,
          904.6319232067916,
          904.6319232067916,
          904.6319232067916,
          904.6319232067916,
          904.6319232067916,
          904.6319232067916,
          904.6319232067916,
          904.6319232067916,
          904.6319232067916,
          904.6319232067916,
          904.6319232067916,
          904.6319232067916,
          904.6319232067916,
          904.6319232067916,
          904.6319232067916,
          904.6319232067916,
          904.6319232067916,
          904.6319232067916
         ]
        },
        {
         "mode": "lines+markers",
         "name": "Ограничение битрейта",
         "type": "scatter",
         "x": [
          0,
          503.0197014808655
         ],
         "y": [
          1192,
          1192
         ]
        }
       ],
       "layout": {
        "template": {
         "data": {
          "bar": [
           {
            "error_x": {
             "color": "#2a3f5f"
            },
            "error_y": {
             "color": "#2a3f5f"
            },
            "marker": {
             "line": {
              "color": "#E5ECF6",
              "width": 0.5
             },
             "pattern": {
              "fillmode": "overlay",
              "size": 10,
              "solidity": 0.2
             }
            },
            "type": "bar"
           }
          ],
          "barpolar": [
           {
            "marker": {
             "line": {
              "color": "#E5ECF6",
              "width": 0.5
             },
             "pattern": {
              "fillmode": "overlay",
              "size": 10,
              "solidity": 0.2
             }
            },
            "type": "barpolar"
           }
          ],
          "carpet": [
           {
            "aaxis": {
             "endlinecolor": "#2a3f5f",
             "gridcolor": "white",
             "linecolor": "white",
             "minorgridcolor": "white",
             "startlinecolor": "#2a3f5f"
            },
            "baxis": {
             "endlinecolor": "#2a3f5f",
             "gridcolor": "white",
             "linecolor": "white",
             "minorgridcolor": "white",
             "startlinecolor": "#2a3f5f"
            },
            "type": "carpet"
           }
          ],
          "choropleth": [
           {
            "colorbar": {
             "outlinewidth": 0,
             "ticks": ""
            },
            "type": "choropleth"
           }
          ],
          "contour": [
           {
            "colorbar": {
             "outlinewidth": 0,
             "ticks": ""
            },
            "colorscale": [
             [
              0,
              "#0d0887"
             ],
             [
              0.1111111111111111,
              "#46039f"
             ],
             [
              0.2222222222222222,
              "#7201a8"
             ],
             [
              0.3333333333333333,
              "#9c179e"
             ],
             [
              0.4444444444444444,
              "#bd3786"
             ],
             [
              0.5555555555555556,
              "#d8576b"
             ],
             [
              0.6666666666666666,
              "#ed7953"
             ],
             [
              0.7777777777777778,
              "#fb9f3a"
             ],
             [
              0.8888888888888888,
              "#fdca26"
             ],
             [
              1,
              "#f0f921"
             ]
            ],
            "type": "contour"
           }
          ],
          "contourcarpet": [
           {
            "colorbar": {
             "outlinewidth": 0,
             "ticks": ""
            },
            "type": "contourcarpet"
           }
          ],
          "heatmap": [
           {
            "colorbar": {
             "outlinewidth": 0,
             "ticks": ""
            },
            "colorscale": [
             [
              0,
              "#0d0887"
             ],
             [
              0.1111111111111111,
              "#46039f"
             ],
             [
              0.2222222222222222,
              "#7201a8"
             ],
             [
              0.3333333333333333,
              "#9c179e"
             ],
             [
              0.4444444444444444,
              "#bd3786"
             ],
             [
              0.5555555555555556,
              "#d8576b"
             ],
             [
              0.6666666666666666,
              "#ed7953"
             ],
             [
              0.7777777777777778,
              "#fb9f3a"
             ],
             [
              0.8888888888888888,
              "#fdca26"
             ],
             [
              1,
              "#f0f921"
             ]
            ],
            "type": "heatmap"
           }
          ],
          "heatmapgl": [
           {
            "colorbar": {
             "outlinewidth": 0,
             "ticks": ""
            },
            "colorscale": [
             [
              0,
              "#0d0887"
             ],
             [
              0.1111111111111111,
              "#46039f"
             ],
             [
              0.2222222222222222,
              "#7201a8"
             ],
             [
              0.3333333333333333,
              "#9c179e"
             ],
             [
              0.4444444444444444,
              "#bd3786"
             ],
             [
              0.5555555555555556,
              "#d8576b"
             ],
             [
              0.6666666666666666,
              "#ed7953"
             ],
             [
              0.7777777777777778,
              "#fb9f3a"
             ],
             [
              0.8888888888888888,
              "#fdca26"
             ],
             [
              1,
              "#f0f921"
             ]
            ],
            "type": "heatmapgl"
           }
          ],
          "histogram": [
           {
            "marker": {
             "pattern": {
              "fillmode": "overlay",
              "size": 10,
              "solidity": 0.2
             }
            },
            "type": "histogram"
           }
          ],
          "histogram2d": [
           {
            "colorbar": {
             "outlinewidth": 0,
             "ticks": ""
            },
            "colorscale": [
             [
              0,
              "#0d0887"
             ],
             [
              0.1111111111111111,
              "#46039f"
             ],
             [
              0.2222222222222222,
              "#7201a8"
             ],
             [
              0.3333333333333333,
              "#9c179e"
             ],
             [
              0.4444444444444444,
              "#bd3786"
             ],
             [
              0.5555555555555556,
              "#d8576b"
             ],
             [
              0.6666666666666666,
              "#ed7953"
             ],
             [
              0.7777777777777778,
              "#fb9f3a"
             ],
             [
              0.8888888888888888,
              "#fdca26"
             ],
             [
              1,
              "#f0f921"
             ]
            ],
            "type": "histogram2d"
           }
          ],
          "histogram2dcontour": [
           {
            "colorbar": {
             "outlinewidth": 0,
             "ticks": ""
            },
            "colorscale": [
             [
              0,
              "#0d0887"
             ],
             [
              0.1111111111111111,
              "#46039f"
             ],
             [
              0.2222222222222222,
              "#7201a8"
             ],
             [
              0.3333333333333333,
              "#9c179e"
             ],
             [
              0.4444444444444444,
              "#bd3786"
             ],
             [
              0.5555555555555556,
              "#d8576b"
             ],
             [
              0.6666666666666666,
              "#ed7953"
             ],
             [
              0.7777777777777778,
              "#fb9f3a"
             ],
             [
              0.8888888888888888,
              "#fdca26"
             ],
             [
              1,
              "#f0f921"
             ]
            ],
            "type": "histogram2dcontour"
           }
          ],
          "mesh3d": [
           {
            "colorbar": {
             "outlinewidth": 0,
             "ticks": ""
            },
            "type": "mesh3d"
           }
          ],
          "parcoords": [
           {
            "line": {
             "colorbar": {
              "outlinewidth": 0,
              "ticks": ""
             }
            },
            "type": "parcoords"
           }
          ],
          "pie": [
           {
            "automargin": true,
            "type": "pie"
           }
          ],
          "scatter": [
           {
            "fillpattern": {
             "fillmode": "overlay",
             "size": 10,
             "solidity": 0.2
            },
            "type": "scatter"
           }
          ],
          "scatter3d": [
           {
            "line": {
             "colorbar": {
              "outlinewidth": 0,
              "ticks": ""
             }
            },
            "marker": {
             "colorbar": {
              "outlinewidth": 0,
              "ticks": ""
             }
            },
            "type": "scatter3d"
           }
          ],
          "scattercarpet": [
           {
            "marker": {
             "colorbar": {
              "outlinewidth": 0,
              "ticks": ""
             }
            },
            "type": "scattercarpet"
           }
          ],
          "scattergeo": [
           {
            "marker": {
             "colorbar": {
              "outlinewidth": 0,
              "ticks": ""
             }
            },
            "type": "scattergeo"
           }
          ],
          "scattergl": [
           {
            "marker": {
             "colorbar": {
              "outlinewidth": 0,
              "ticks": ""
             }
            },
            "type": "scattergl"
           }
          ],
          "scattermapbox": [
           {
            "marker": {
             "colorbar": {
              "outlinewidth": 0,
              "ticks": ""
             }
            },
            "type": "scattermapbox"
           }
          ],
          "scatterpolar": [
           {
            "marker": {
             "colorbar": {
              "outlinewidth": 0,
              "ticks": ""
             }
            },
            "type": "scatterpolar"
           }
          ],
          "scatterpolargl": [
           {
            "marker": {
             "colorbar": {
              "outlinewidth": 0,
              "ticks": ""
             }
            },
            "type": "scatterpolargl"
           }
          ],
          "scatterternary": [
           {
            "marker": {
             "colorbar": {
              "outlinewidth": 0,
              "ticks": ""
             }
            },
            "type": "scatterternary"
           }
          ],
          "surface": [
           {
            "colorbar": {
             "outlinewidth": 0,
             "ticks": ""
            },
            "colorscale": [
             [
              0,
              "#0d0887"
             ],
             [
              0.1111111111111111,
              "#46039f"
             ],
             [
              0.2222222222222222,
              "#7201a8"
             ],
             [
              0.3333333333333333,
              "#9c179e"
             ],
             [
              0.4444444444444444,
              "#bd3786"
             ],
             [
              0.5555555555555556,
              "#d8576b"
             ],
             [
              0.6666666666666666,
              "#ed7953"
             ],
             [
              0.7777777777777778,
              "#fb9f3a"
             ],
             [
              0.8888888888888888,
              "#fdca26"
             ],
             [
              1,
              "#f0f921"
             ]
            ],
            "type": "surface"
           }
          ],
          "table": [
           {
            "cells": {
             "fill": {
              "color": "#EBF0F8"
             },
             "line": {
              "color": "white"
             }
            },
            "header": {
             "fill": {
              "color": "#C8D4E3"
             },
             "line": {
              "color": "white"
             }
            },
            "type": "table"
           }
          ]
         },
         "layout": {
          "annotationdefaults": {
           "arrowcolor": "#2a3f5f",
           "arrowhead": 0,
           "arrowwidth": 1
          },
          "autotypenumbers": "strict",
          "coloraxis": {
           "colorbar": {
            "outlinewidth": 0,
            "ticks": ""
           }
          },
          "colorscale": {
           "diverging": [
            [
             0,
             "#8e0152"
            ],
            [
             0.1,
             "#c51b7d"
            ],
            [
             0.2,
             "#de77ae"
            ],
            [
             0.3,
             "#f1b6da"
            ],
            [
             0.4,
             "#fde0ef"
            ],
            [
             0.5,
             "#f7f7f7"
            ],
            [
             0.6,
             "#e6f5d0"
            ],
            [
             0.7,
             "#b8e186"
            ],
            [
             0.8,
             "#7fbc41"
            ],
            [
             0.9,
             "#4d9221"
            ],
            [
             1,
             "#276419"
            ]
           ],
           "sequential": [
            [
             0,
             "#0d0887"
            ],
            [
             0.1111111111111111,
             "#46039f"
            ],
            [
             0.2222222222222222,
             "#7201a8"
            ],
            [
             0.3333333333333333,
             "#9c179e"
            ],
            [
             0.4444444444444444,
             "#bd3786"
            ],
            [
             0.5555555555555556,
             "#d8576b"
            ],
            [
             0.6666666666666666,
             "#ed7953"
            ],
            [
             0.7777777777777778,
             "#fb9f3a"
            ],
            [
             0.8888888888888888,
             "#fdca26"
            ],
            [
             1,
             "#f0f921"
            ]
           ],
           "sequentialminus": [
            [
             0,
             "#0d0887"
            ],
            [
             0.1111111111111111,
             "#46039f"
            ],
            [
             0.2222222222222222,
             "#7201a8"
            ],
            [
             0.3333333333333333,
             "#9c179e"
            ],
            [
             0.4444444444444444,
             "#bd3786"
            ],
            [
             0.5555555555555556,
             "#d8576b"
            ],
            [
             0.6666666666666666,
             "#ed7953"
            ],
            [
             0.7777777777777778,
             "#fb9f3a"
            ],
            [
             0.8888888888888888,
             "#fdca26"
            ],
            [
             1,
             "#f0f921"
            ]
           ]
          },
          "colorway": [
           "#636efa",
           "#EF553B",
           "#00cc96",
           "#ab63fa",
           "#FFA15A",
           "#19d3f3",
           "#FF6692",
           "#B6E880",
           "#FF97FF",
           "#FECB52"
          ],
          "font": {
           "color": "#2a3f5f"
          },
          "geo": {
           "bgcolor": "white",
           "lakecolor": "white",
           "landcolor": "#E5ECF6",
           "showlakes": true,
           "showland": true,
           "subunitcolor": "white"
          },
          "hoverlabel": {
           "align": "left"
          },
          "hovermode": "closest",
          "mapbox": {
           "style": "light"
          },
          "paper_bgcolor": "white",
          "plot_bgcolor": "#E5ECF6",
          "polar": {
           "angularaxis": {
            "gridcolor": "white",
            "linecolor": "white",
            "ticks": ""
           },
           "bgcolor": "#E5ECF6",
           "radialaxis": {
            "gridcolor": "white",
            "linecolor": "white",
            "ticks": ""
           }
          },
          "scene": {
           "xaxis": {
            "backgroundcolor": "#E5ECF6",
            "gridcolor": "white",
            "gridwidth": 2,
            "linecolor": "white",
            "showbackground": true,
            "ticks": "",
            "zerolinecolor": "white"
           },
           "yaxis": {
            "backgroundcolor": "#E5ECF6",
            "gridcolor": "white",
            "gridwidth": 2,
            "linecolor": "white",
            "showbackground": true,
            "ticks": "",
            "zerolinecolor": "white"
           },
           "zaxis": {
            "backgroundcolor": "#E5ECF6",
            "gridcolor": "white",
            "gridwidth": 2,
            "linecolor": "white",
            "showbackground": true,
            "ticks": "",
            "zerolinecolor": "white"
           }
          },
          "shapedefaults": {
           "line": {
            "color": "#2a3f5f"
           }
          },
          "ternary": {
           "aaxis": {
            "gridcolor": "white",
            "linecolor": "white",
            "ticks": ""
           },
           "baxis": {
            "gridcolor": "white",
            "linecolor": "white",
            "ticks": ""
           },
           "bgcolor": "#E5ECF6",
           "caxis": {
            "gridcolor": "white",
            "linecolor": "white",
            "ticks": ""
           }
          },
          "title": {
           "x": 0.05
          },
          "xaxis": {
           "automargin": true,
           "gridcolor": "white",
           "linecolor": "white",
           "ticks": "",
           "title": {
            "standoff": 15
           },
           "zerolinecolor": "white",
           "zerolinewidth": 2
          },
          "yaxis": {
           "automargin": true,
           "gridcolor": "white",
           "linecolor": "white",
           "ticks": "",
           "title": {
            "standoff": 15
           },
           "zerolinecolor": "white",
           "zerolinewidth": 2
          }
         }
        },
        "title": {
         "text": "Задержка 500 мс"
        },
        "xaxis": {
         "title": {
          "text": "Время, с"
         }
        },
        "yaxis": {
         "title": {
          "text": "Килобайт или килобайт/с"
         }
        }
       }
      }
     },
     "metadata": {},
     "output_type": "display_data"
    }
   ],
   "source": [
    "\n",
    "df = get_df(br, latency)\n",
    "df[\"request_complete\"]  -= df[\"request_start\"][0]\n",
    "df[\"response_start\"]    -= df[\"request_start\"][0]\n",
    "df[\"response_complete\"] -= df[\"request_start\"][0]\n",
    "df[\"request_start\"]     -= df[\"request_start\"][0]\n",
    "df[\"range_start\"] /= 1024 / 8\n",
    "df[\"range_end\"] /= 1024 / 8\n",
    "df[\"clen\"] /= 1024 / 8\n",
    "df[\"buffer\"] /= 1024 / 8\n",
    "\n",
    "fig = go.Figure()\n",
    "fig.add_trace(go.Scatter(x = df[\"request_start\"], y = df[\"buffer\"], name = \"Буфер\", mode = \"lines+markers\"))\n",
    "\n",
    "netRate = (df[\"range_end\"] - df[\"range_start\"]) / (df[\"response_complete\"] - df[\"request_start\"])\n",
    "streamBitRate = df[\"clen\"] / df[\"duration\"]\n",
    "# fig.add_trace(go.Scatter(x = df[\"request_start\"], y = netRate, name = \"Пропускная способность сети\", mode = \"lines+markers\"))\n",
    "fig.add_trace(go.Scatter(x = df[\"request_start\"], y = streamBitRate, name = \"Битрейт видео кБ/с\", mode = \"lines+markers\"))\n",
    "fig.add_trace(go.Scatter(x = [0, df[\"request_start\"].values[-1]], y = [br] * 2, name = \"Ограничение битрейта\", mode = \"lines+markers\"))\n",
    "\n",
    "fig.update_layout(xaxis_title=\"Время, с\", yaxis_title=\"Килобайт или килобайт/с\", title=f\"Задержка {latency} мс\")\n",
    "fig.write_image(f\"images/time{latency}.png\")\n",
    "fig.show()"
   ]
  }
 ],
 "metadata": {
  "kernelspec": {
   "display_name": "Python 3",
   "language": "python",
   "name": "python3"
  },
  "language_info": {
   "codemirror_mode": {
    "name": "ipython",
    "version": 3
   },
   "file_extension": ".py",
   "mimetype": "text/x-python",
   "name": "python",
   "nbconvert_exporter": "python",
   "pygments_lexer": "ipython3",
   "version": "3.10.6"
  },
  "vscode": {
   "interpreter": {
    "hash": "b0fa6594d8f4cbf19f97940f81e996739fb7646882a419484c72d19e05852a7e"
   }
  }
 },
 "nbformat": 4,
 "nbformat_minor": 2
}
